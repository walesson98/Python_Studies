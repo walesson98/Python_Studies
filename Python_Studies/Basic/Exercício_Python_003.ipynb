{
  "nbformat": 4,
  "nbformat_minor": 0,
  "metadata": {
    "colab": {
      "name": "Exercício Python #003.ipynb",
      "provenance": [],
      "authorship_tag": "ABX9TyPRZJN370l5d9HIw2n674q/",
      "include_colab_link": true
    },
    "kernelspec": {
      "name": "python3",
      "display_name": "Python 3"
    },
    "language_info": {
      "name": "python"
    }
  },
  "cells": [
    {
      "cell_type": "markdown",
      "metadata": {
        "id": "view-in-github",
        "colab_type": "text"
      },
      "source": [
        "<a href=\"https://colab.research.google.com/github/walesson98/Python_Studies/blob/main/Python_Studies/Basic/Exerc%C3%ADcio_Python_003.ipynb\" target=\"_parent\"><img src=\"https://colab.research.google.com/assets/colab-badge.svg\" alt=\"Open In Colab\"/></a>"
      ]
    },
    {
      "cell_type": "code",
      "source": [
        "## Exercício Python #003 - Somando dois números"
      ],
      "metadata": {
        "id": "VwkYmOu3s5rK"
      },
      "execution_count": 2,
      "outputs": []
    },
    {
      "cell_type": "code",
      "execution_count": 1,
      "metadata": {
        "colab": {
          "base_uri": "https://localhost:8080/"
        },
        "id": "UATGrYCqskYC",
        "outputId": "bd92db57-2e5d-4c2c-ff40-e946e5f3e272"
      },
      "outputs": [
        {
          "output_type": "stream",
          "name": "stdout",
          "text": [
            "Digite um número: 50\n",
            "Digite outro núemro:20\n",
            "A soma entre 50 e 20 é igual a: 70!\n"
          ]
        }
      ],
      "source": [
        "a = int(input('Digite um número: '))\n",
        "b = int(input('Digite outro núemro:'))\n",
        "\n",
        "soma = a+b\n",
        "print('A soma entre {} e {} é igual a: {}!'.format(a,b,soma))"
      ]
    }
  ]
}