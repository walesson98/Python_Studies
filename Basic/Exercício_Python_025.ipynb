{
  "nbformat": 4,
  "nbformat_minor": 0,
  "metadata": {
    "colab": {
      "name": "Exercício Python #025.ipynb",
      "provenance": [],
      "authorship_tag": "ABX9TyP7hELVqSbvuZM0PyCZXatf",
      "include_colab_link": true
    },
    "kernelspec": {
      "name": "python3",
      "display_name": "Python 3"
    },
    "language_info": {
      "name": "python"
    }
  },
  "cells": [
    {
      "cell_type": "markdown",
      "metadata": {
        "id": "view-in-github",
        "colab_type": "text"
      },
      "source": [
        "<a href=\"https://colab.research.google.com/github/walesson98/Python_Studies/blob/main/Basic/Exerc%C3%ADcio_Python_025.ipynb\" target=\"_parent\"><img src=\"https://colab.research.google.com/assets/colab-badge.svg\" alt=\"Open In Colab\"/></a>"
      ]
    },
    {
      "cell_type": "code",
      "execution_count": null,
      "metadata": {
        "id": "ug7LED9LqP4b"
      },
      "outputs": [],
      "source": [
        "## Exercício Python #025 - Procurando uma string dentro de outra"
      ]
    },
    {
      "cell_type": "code",
      "source": [
        "nome = str(input('Qual é seu nome completo? ')).strip()\n",
        "print('Seu nome tem Silva? {}'.format('silva' in nome.lower()))"
      ],
      "metadata": {
        "colab": {
          "base_uri": "https://localhost:8080/"
        },
        "id": "ozcKv95itXD3",
        "outputId": "eebe1f07-5eb3-4fcb-ead3-6244ded39cf4"
      },
      "execution_count": 7,
      "outputs": [
        {
          "output_type": "stream",
          "name": "stdout",
          "text": [
            "Qual é seu nome completo? jose carlos da silva\n",
            "Seu nome tem Silva? True\n"
          ]
        }
      ]
    }
  ]
}