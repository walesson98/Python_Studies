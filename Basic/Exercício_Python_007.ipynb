{
  "nbformat": 4,
  "nbformat_minor": 0,
  "metadata": {
    "colab": {
      "name": "Exercício Python #007.ipynb",
      "provenance": []
    },
    "kernelspec": {
      "name": "python3",
      "display_name": "Python 3"
    },
    "language_info": {
      "name": "python"
    }
  },
  "cells": [
    {
      "cell_type": "code",
      "execution_count": 1,
      "metadata": {
        "id": "Xg3sUHfhtuFD"
      },
      "outputs": [],
      "source": [
        "## Exercício Python #007 - Média"
      ]
    },
    {
      "cell_type": "code",
      "source": [
        "n1 = int(input('Digite sua primeira nota: '))\n",
        "n2 = int(input('Digite sua segunda nota: '))\n",
        "m = (n1+n2)/2\n",
        "print('A média de {} e {} é igual a: {:.2f}' .format(n1, n2, m))"
      ],
      "metadata": {
        "colab": {
          "base_uri": "https://localhost:8080/"
        },
        "id": "IOyGNk9Dtx6_",
        "outputId": "5fc7052e-ef06-430c-c13e-ffaa219469c8"
      },
      "execution_count": 4,
      "outputs": [
        {
          "output_type": "stream",
          "name": "stdout",
          "text": [
            "Digite sua primeira nota: 8\n",
            "Digite sua segunda nota: 9\n",
            "A média de 8 e 9 é igual a: 8.50\n"
          ]
        }
      ]
    }
  ]
}