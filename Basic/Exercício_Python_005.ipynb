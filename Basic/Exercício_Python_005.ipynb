{
  "nbformat": 4,
  "nbformat_minor": 0,
  "metadata": {
    "colab": {
      "name": "Exercício Python #005.ipynb",
      "provenance": [],
      "authorship_tag": "ABX9TyMNrks7Q37jJuXizyAZMmag",
      "include_colab_link": true
    },
    "kernelspec": {
      "name": "python3",
      "display_name": "Python 3"
    },
    "language_info": {
      "name": "python"
    }
  },
  "cells": [
    {
      "cell_type": "markdown",
      "metadata": {
        "id": "view-in-github",
        "colab_type": "text"
      },
      "source": [
        "<a href=\"https://colab.research.google.com/github/walesson98/Python_Studies/blob/main/Basic/Exerc%C3%ADcio_Python_005.ipynb\" target=\"_parent\"><img src=\"https://colab.research.google.com/assets/colab-badge.svg\" alt=\"Open In Colab\"/></a>"
      ]
    },
    {
      "cell_type": "code",
      "execution_count": 1,
      "metadata": {
        "id": "7HvTIFmftMTI"
      },
      "outputs": [],
      "source": [
        "## Exercício Python #005 - Antecessor e Sucessor"
      ]
    },
    {
      "cell_type": "code",
      "source": [
        "n = int(input('Digite um número: '))\n",
        "a = n - 1\n",
        "s = n + 1\n",
        "print('Anaalisando o valor {}, seu antecessor é {} e o sucessor é {}'.format(n,a,s))"
      ],
      "metadata": {
        "colab": {
          "base_uri": "https://localhost:8080/"
        },
        "id": "Jifkx6bytT28",
        "outputId": "694e5568-ad9e-4a1b-8f35-9f82a5582eec"
      },
      "execution_count": 2,
      "outputs": [
        {
          "output_type": "stream",
          "name": "stdout",
          "text": [
            "Digite um número: 5\n",
            "Anaalisando o valor 5, seu antecessor é 4 e o sucessor é 6\n"
          ]
        }
      ]
    }
  ]
}