{
  "nbformat": 4,
  "nbformat_minor": 0,
  "metadata": {
    "colab": {
      "name": "Exercício Python #009.ipynb",
      "provenance": []
    },
    "kernelspec": {
      "name": "python3",
      "display_name": "Python 3"
    },
    "language_info": {
      "name": "python"
    }
  },
  "cells": [
    {
      "cell_type": "code",
      "execution_count": null,
      "metadata": {
        "id": "8oQoBfpRwqyw"
      },
      "outputs": [],
      "source": [
        "## Exercício Python #009 - Tabuada"
      ]
    },
    {
      "cell_type": "code",
      "source": [
        "num = int(input('Digite um numero para ver a tabuada: '))\n",
        "print('{} x {} = {}' .format(num, 1 , num*1))\n",
        "print('{} x {} = {}' .format(num, 2 , num*2))\n",
        "print('{} x {} = {}' .format(num, 1 , num*3))\n",
        "print('{} x {} = {}' .format(num, 1 , num*4))\n",
        "print('{} x {} = {}' .format(num, 1 , num*5))\n",
        "print('{} x {} = {}' .format(num, 1 , num*6))\n",
        "print('{} x {} = {}' .format(num, 1 , num*7))\n",
        "print('{} x {} = {}' .format(num, 1 , num*8)) \n",
        "print('{} x {} = {}' .format(num, 1 , num*9))\n",
        "print('{} x {} = {}' .format(num, 1 , num*10))"
      ],
      "metadata": {
        "colab": {
          "base_uri": "https://localhost:8080/"
        },
        "id": "oBVOyv7SwujP",
        "outputId": "3b8ddfdc-2f15-4d9e-a37d-febfb8e481e6"
      },
      "execution_count": 1,
      "outputs": [
        {
          "output_type": "stream",
          "name": "stdout",
          "text": [
            "Digite um numero para ver a tabuada: 9\n",
            "9 x 1 = 9\n",
            "9 x 2 = 18\n",
            "9 x 1 = 27\n",
            "9 x 1 = 36\n",
            "9 x 1 = 45\n",
            "9 x 1 = 54\n",
            "9 x 1 = 63\n",
            "9 x 1 = 72\n",
            "9 x 1 = 81\n",
            "9 x 1 = 90\n"
          ]
        }
      ]
    }
  ]
}