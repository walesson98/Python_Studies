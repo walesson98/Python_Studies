{
  "nbformat": 4,
  "nbformat_minor": 0,
  "metadata": {
    "colab": {
      "name": "Exercício Python #029.ipynb",
      "provenance": [],
      "authorship_tag": "ABX9TyNb4YvC0cOYXbfJY/3G3gyu",
      "include_colab_link": true
    },
    "kernelspec": {
      "name": "python3",
      "display_name": "Python 3"
    },
    "language_info": {
      "name": "python"
    }
  },
  "cells": [
    {
      "cell_type": "markdown",
      "metadata": {
        "id": "view-in-github",
        "colab_type": "text"
      },
      "source": [
        "<a href=\"https://colab.research.google.com/github/walesson98/Python_Studies/blob/main/Basic/Exerc%C3%ADcio_Python_029.ipynb\" target=\"_parent\"><img src=\"https://colab.research.google.com/assets/colab-badge.svg\" alt=\"Open In Colab\"/></a>"
      ]
    },
    {
      "cell_type": "code",
      "execution_count": 1,
      "metadata": {
        "id": "SmjgcN1HAzV5"
      },
      "outputs": [],
      "source": [
        "## Exercício Python #029 - Radar eletrônico"
      ]
    },
    {
      "cell_type": "code",
      "source": [
        "vel = int(input('Digite a velocidade do veículo: '))\n",
        "if vel > 80:\n",
        "  print('Você foi multado! Valor da multa R${:.2f}'.format((vel-80)*7))\n",
        "else:\n",
        "  print('Sua velociadde é {}KM/H,  continue respeitando os limites!'.format(vel))"
      ],
      "metadata": {
        "colab": {
          "base_uri": "https://localhost:8080/"
        },
        "id": "W8CegjvYBM0F",
        "outputId": "4a510259-15c4-4613-c4d3-95ba4ae38688"
      },
      "execution_count": 3,
      "outputs": [
        {
          "output_type": "stream",
          "name": "stdout",
          "text": [
            "Digite a velocidade do veículo: 90\n",
            "Você foi multado! Valor da multa R$70.00\n"
          ]
        }
      ]
    }
  ]
}