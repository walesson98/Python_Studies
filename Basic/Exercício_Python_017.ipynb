{
  "nbformat": 4,
  "nbformat_minor": 0,
  "metadata": {
    "colab": {
      "name": "Exercício Python #017.ipynb",
      "provenance": []
    },
    "kernelspec": {
      "name": "python3",
      "display_name": "Python 3"
    },
    "language_info": {
      "name": "python"
    }
  },
  "cells": [
    {
      "cell_type": "code",
      "execution_count": null,
      "metadata": {
        "id": "HX9uAxp0yZKy"
      },
      "outputs": [],
      "source": [
        "## Exercício Python #017 - Catettos e Hipotenusa"
      ]
    },
    {
      "cell_type": "code",
      "source": [
        "import math "
      ],
      "metadata": {
        "id": "cNGNx1CDyctt"
      },
      "execution_count": 1,
      "outputs": []
    },
    {
      "cell_type": "code",
      "source": [
        "co = float(input('Comprimento do cateto oposto: '))\n",
        "ca = float(input('Comprimento do cateto adjacente : '))\n",
        "#hi = (co** 2 + ca **2) ** (1/2)\n",
        "#print('A hipotenusa vai medir: {:.2f}'.format(hi))\n",
        "\n",
        "\n",
        "hi = math.hypot(co, ca)\n",
        "print('A hipotenusa vai medir: {:.2f}' .format(hi))"
      ],
      "metadata": {
        "colab": {
          "base_uri": "https://localhost:8080/"
        },
        "id": "RSKfpbx_yej4",
        "outputId": "8ff038e3-441f-4473-d3fb-f7f138d34310"
      },
      "execution_count": 2,
      "outputs": [
        {
          "output_type": "stream",
          "name": "stdout",
          "text": [
            "Comprimento do cateto oposto: 20\n",
            "Comprimento do cateto adjacente : 15\n",
            "A hipotenusa vai medir: 25.00\n"
          ]
        }
      ]
    },
    {
      "cell_type": "code",
      "source": [
        ""
      ],
      "metadata": {
        "id": "9OBt9sfuydG9"
      },
      "execution_count": null,
      "outputs": []
    }
  ]
}