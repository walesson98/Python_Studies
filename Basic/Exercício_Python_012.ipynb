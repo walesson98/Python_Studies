{
  "nbformat": 4,
  "nbformat_minor": 0,
  "metadata": {
    "colab": {
      "name": "Exercício Python #012.ipynb",
      "provenance": []
    },
    "kernelspec": {
      "name": "python3",
      "display_name": "Python 3"
    },
    "language_info": {
      "name": "python"
    }
  },
  "cells": [
    {
      "cell_type": "code",
      "execution_count": null,
      "metadata": {
        "id": "wAUb_pZxxWkm"
      },
      "outputs": [],
      "source": [
        "## Exercício Python #012 - Desconto"
      ]
    },
    {
      "cell_type": "code",
      "source": [
        "valor = float(input('Digite o valor total: R$ '))\n",
        "desconto = float(input('Digite o desconto ofertado: '))\n",
        "valorFinal = valor - (valor * desconto / 100)\n",
        "print('O produto que custava R${:.2f}, na promoção com desconto de {:.0f}%, saiu por: R${:.2f}' .format(valor, desconto, valorFinal))"
      ],
      "metadata": {
        "colab": {
          "base_uri": "https://localhost:8080/"
        },
        "id": "cveXXZglxZTs",
        "outputId": "2e96f62d-2703-4d36-8486-1c326cd67e7b"
      },
      "execution_count": 1,
      "outputs": [
        {
          "output_type": "stream",
          "name": "stdout",
          "text": [
            "Digite o valor total: R$ 140\n",
            "Digite o desconto ofertado: 15\n",
            "O produto que custava R$140.00, na promoção com desconto de 15%, saiu por: R$119.00\n"
          ]
        }
      ]
    }
  ]
}