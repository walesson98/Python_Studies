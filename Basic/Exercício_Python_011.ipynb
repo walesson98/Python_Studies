{
  "nbformat": 4,
  "nbformat_minor": 0,
  "metadata": {
    "colab": {
      "name": "Exercício Python #011.ipynb",
      "provenance": []
    },
    "kernelspec": {
      "name": "python3",
      "display_name": "Python 3"
    },
    "language_info": {
      "name": "python"
    }
  },
  "cells": [
    {
      "cell_type": "code",
      "execution_count": null,
      "metadata": {
        "id": "DdVbEkQUxIav"
      },
      "outputs": [],
      "source": [
        "## Exercício Python #011 - Pintando Parede"
      ]
    },
    {
      "cell_type": "code",
      "source": [
        "largura = float(input('Digite a largura da parede: '))\n",
        "altura = float(input('Digite a altura da parede: '))\n",
        "area = (largura * altura)\n",
        "print('Sua parede tem a dimensão de {}x{} é {:.0f}m²' .format(largura, altura, area))\n",
        "tinta = area /2\n",
        "print('Você irá precisar de {}L de tinta.'.format(tinta))"
      ],
      "metadata": {
        "colab": {
          "base_uri": "https://localhost:8080/"
        },
        "id": "vq_gAVSvxLRs",
        "outputId": "2a677161-a428-45d0-e890-2785ddbcbaec"
      },
      "execution_count": 1,
      "outputs": [
        {
          "output_type": "stream",
          "name": "stdout",
          "text": [
            "Digite a largura da parede: 20\n",
            "Digite a altura da parede: 3\n",
            "Sua parede tem a dimensão de 20.0x3.0 é 60m²\n",
            "Você irá precisar de 30.0L de tinta.\n"
          ]
        }
      ]
    }
  ]
}