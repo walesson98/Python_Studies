{
  "nbformat": 4,
  "nbformat_minor": 0,
  "metadata": {
    "colab": {
      "name": "Exercício Python #038.ipynb",
      "provenance": [],
      "authorship_tag": "ABX9TyMH/XSHQtpKypYeJKIF5iko",
      "include_colab_link": true
    },
    "kernelspec": {
      "name": "python3",
      "display_name": "Python 3"
    },
    "language_info": {
      "name": "python"
    }
  },
  "cells": [
    {
      "cell_type": "markdown",
      "metadata": {
        "id": "view-in-github",
        "colab_type": "text"
      },
      "source": [
        "<a href=\"https://colab.research.google.com/github/walesson98/Python_Studies/blob/main/Basic/Exerc%C3%ADcio_Python_038.ipynb\" target=\"_parent\"><img src=\"https://colab.research.google.com/assets/colab-badge.svg\" alt=\"Open In Colab\"/></a>"
      ]
    },
    {
      "cell_type": "code",
      "source": [
        "##Exercício Python #038 - Comparando números"
      ],
      "metadata": {
        "id": "ppConEIGF2ke"
      },
      "execution_count": null,
      "outputs": []
    },
    {
      "cell_type": "code",
      "execution_count": 5,
      "metadata": {
        "colab": {
          "base_uri": "https://localhost:8080/"
        },
        "id": "bWJResXdFz0t",
        "outputId": "e9765018-4fed-412f-f952-02483781fd56"
      },
      "outputs": [
        {
          "output_type": "stream",
          "name": "stdout",
          "text": [
            "Digite o primeiro valor: 20.5\n",
            "Digite o segundo valor: 20\n",
            "O primeiro valor é maior que o segundo valor.\n"
          ]
        }
      ],
      "source": [
        "\n",
        "primeiro = float(input('Digite o primeiro valor: '))\n",
        "segundo = float(input('Digite o segundo valor: '))\n",
        "\n",
        "if primeiro > segundo:\n",
        "    print('O primeiro valor é maior que o segundo valor.')\n",
        "elif primeiro < segundo:\n",
        "    print('O segundo valor é maior que o primeiro valor.')\n",
        "elif primeiro == segundo:\n",
        "    print('Os dois valores são iguais.')\n"
      ]
    }
  ]
}