{
  "nbformat": 4,
  "nbformat_minor": 0,
  "metadata": {
    "colab": {
      "name": "Exercício Python #030.ipynb",
      "provenance": [],
      "collapsed_sections": [],
      "authorship_tag": "ABX9TyMd5b48q42ZJBVso48XNPgO",
      "include_colab_link": true
    },
    "kernelspec": {
      "name": "python3",
      "display_name": "Python 3"
    },
    "language_info": {
      "name": "python"
    }
  },
  "cells": [
    {
      "cell_type": "markdown",
      "metadata": {
        "id": "view-in-github",
        "colab_type": "text"
      },
      "source": [
        "<a href=\"https://colab.research.google.com/github/walesson98/Python_Studies/blob/main/Basic/Exerc%C3%ADcio_Python_030.ipynb\" target=\"_parent\"><img src=\"https://colab.research.google.com/assets/colab-badge.svg\" alt=\"Open In Colab\"/></a>"
      ]
    },
    {
      "cell_type": "code",
      "source": [
        "## Exercício Python #030 - Par ou Ímpar?"
      ],
      "metadata": {
        "id": "MoE4tQ5jDetL"
      },
      "execution_count": null,
      "outputs": []
    },
    {
      "cell_type": "code",
      "execution_count": null,
      "metadata": {
        "id": "htWCHg7x978o",
        "colab": {
          "base_uri": "https://localhost:8080/"
        },
        "outputId": "ab5e2d99-cdfd-478e-a0a0-1cb6f905bffb"
      },
      "outputs": [
        {
          "output_type": "stream",
          "name": "stdout",
          "text": [
            "Digite um número: 19\n",
            "O número 19 é ímpar.\n"
          ]
        }
      ],
      "source": [
        "num1 = int(input(\"Digite um número: \"))\n",
        "res = num1 % 2\n",
        "if res == 0:\n",
        "    print('O número {} é par.'.format(num1))\n",
        "else:\n",
        "    print('O número {} é ímpar.'.format(num1))\n"
      ]
    }
  ]
}