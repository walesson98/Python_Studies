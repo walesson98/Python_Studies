{
  "nbformat": 4,
  "nbformat_minor": 0,
  "metadata": {
    "colab": {
      "name": "Exercício Python #024.ipynb",
      "provenance": [],
      "authorship_tag": "ABX9TyMGunzyPVyMxlOI1wQIQIdO",
      "include_colab_link": true
    },
    "kernelspec": {
      "name": "python3",
      "display_name": "Python 3"
    },
    "language_info": {
      "name": "python"
    }
  },
  "cells": [
    {
      "cell_type": "markdown",
      "metadata": {
        "id": "view-in-github",
        "colab_type": "text"
      },
      "source": [
        "<a href=\"https://colab.research.google.com/github/walesson98/Python_Studies/blob/main/Basic/Exerc%C3%ADcio_Python_024.ipynb\" target=\"_parent\"><img src=\"https://colab.research.google.com/assets/colab-badge.svg\" alt=\"Open In Colab\"/></a>"
      ]
    },
    {
      "cell_type": "code",
      "execution_count": 2,
      "metadata": {
        "id": "xBvWRtvYnIc9"
      },
      "outputs": [],
      "source": [
        "## Exercício Python #024 - Verificando as primeiras letras de um texto"
      ]
    },
    {
      "cell_type": "code",
      "source": [
        "cid = str(input('Digite o nome da cidade: ')).lower().strip()\n",
        "print(cid[:5] == 'santo')"
      ],
      "metadata": {
        "colab": {
          "base_uri": "https://localhost:8080/"
        },
        "id": "ISbzep89nneW",
        "outputId": "b8901ac8-f6f3-48e6-9aa6-30fc553ec4b2"
      },
      "execution_count": 9,
      "outputs": [
        {
          "output_type": "stream",
          "name": "stdout",
          "text": [
            "Digite o nome da cidade: santo luiz\n",
            "True\n"
          ]
        }
      ]
    }
  ]
}