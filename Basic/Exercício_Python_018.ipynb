{
  "nbformat": 4,
  "nbformat_minor": 0,
  "metadata": {
    "colab": {
      "name": "Exercício Python #018.ipynb",
      "provenance": []
    },
    "kernelspec": {
      "name": "python3",
      "display_name": "Python 3"
    },
    "language_info": {
      "name": "python"
    }
  },
  "cells": [
    {
      "cell_type": "code",
      "execution_count": null,
      "metadata": {
        "id": "HSu3840lynac"
      },
      "outputs": [],
      "source": [
        "## Exercício Python #018 - Seno, cosseno e Tangente"
      ]
    },
    {
      "cell_type": "code",
      "source": [
        "from math import sin, cos, tan, radians "
      ],
      "metadata": {
        "id": "NsjXGf56ysK3"
      },
      "execution_count": 1,
      "outputs": []
    },
    {
      "cell_type": "code",
      "source": [
        "an = float(input('Digite o angulo que deseja: '))\n",
        "s = sin(radians(an))\n",
        "print('O ângulo de {} tem o SENO de {:.2f}'.format(an, s))\n",
        "c = cos(radians(an))\n",
        "print('O ângulo de {} tem o Consseno de {:.2f}'.format(an, c))\n",
        "t = tan(radians(an))\n",
        "print('O ângulo de {} tem o Tangente de {:.2f}'.format(an, t))"
      ],
      "metadata": {
        "colab": {
          "base_uri": "https://localhost:8080/"
        },
        "id": "ITn6mWGjytrO",
        "outputId": "534b0ada-aeef-4b3a-f2a8-f88426f77723"
      },
      "execution_count": 2,
      "outputs": [
        {
          "output_type": "stream",
          "name": "stdout",
          "text": [
            "Digite o angulo que deseja: 10\n",
            "O ângulo de 10.0 tem o SENO de 0.17\n",
            "O ângulo de 10.0 tem o Consseno de 0.98\n",
            "O ângulo de 10.0 tem o Tangente de 0.18\n"
          ]
        }
      ]
    }
  ]
}