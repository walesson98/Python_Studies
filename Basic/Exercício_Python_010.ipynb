{
  "nbformat": 4,
  "nbformat_minor": 0,
  "metadata": {
    "colab": {
      "name": "Exercício Python #010.ipynb",
      "provenance": []
    },
    "kernelspec": {
      "name": "python3",
      "display_name": "Python 3"
    },
    "language_info": {
      "name": "python"
    }
  },
  "cells": [
    {
      "cell_type": "code",
      "execution_count": null,
      "metadata": {
        "id": "RQf9AWXlw8ms"
      },
      "outputs": [],
      "source": [
        "## Exercício Python #010 - Conversor de moedas"
      ]
    },
    {
      "cell_type": "code",
      "source": [
        "real = float(input('Digite o valor que queira converter: '))\n",
        "dolar = real/5.19\n",
        "print('O valor convertido em Dolar é: ${:.2f}'.format(dolar))"
      ],
      "metadata": {
        "colab": {
          "base_uri": "https://localhost:8080/"
        },
        "id": "vNoPGuk0xAbx",
        "outputId": "7f1d0d20-7663-4efb-fadf-f3d765d6e503"
      },
      "execution_count": 1,
      "outputs": [
        {
          "output_type": "stream",
          "name": "stdout",
          "text": [
            "Digite o valor que queira converter: 1000\n",
            "O valor convertido em Dolar é: $192.68\n"
          ]
        }
      ]
    }
  ]
}