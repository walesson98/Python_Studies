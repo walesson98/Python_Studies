{
  "nbformat": 4,
  "nbformat_minor": 0,
  "metadata": {
    "colab": {
      "name": "Exercícios.ipynb",
      "provenance": [],
      "collapsed_sections": [],
      "authorship_tag": "ABX9TyP/iBPzYlr41C8GN2/gL7l1",
      "include_colab_link": true
    },
    "kernelspec": {
      "name": "python3",
      "display_name": "Python 3"
    }
  },
  "cells": [
    {
      "cell_type": "markdown",
      "metadata": {
        "id": "view-in-github",
        "colab_type": "text"
      },
      "source": [
        "<a href=\"https://colab.research.google.com/github/walesson98/Python_Studies/blob/main/Basic/Exerc%C3%ADcios.ipynb\" target=\"_parent\"><img src=\"https://colab.research.google.com/assets/colab-badge.svg\" alt=\"Open In Colab\"/></a>"
      ]
    },
    {
      "cell_type": "code",
      "metadata": {
        "id": "hJai_lbjbLV1"
      },
      "source": [
        "## Exercício Python #002 - Respondendo ao Usuário"
      ],
      "execution_count": 6,
      "outputs": []
    },
    {
      "cell_type": "code",
      "source": [
        "nome = input('Digite seu nome: ')\n",
        "print('É um prazer te conhecer {}!'.format(nome))"
      ],
      "metadata": {
        "colab": {
          "base_uri": "https://localhost:8080/"
        },
        "id": "ovLvk41Thqa-",
        "outputId": "2c5fc92f-229c-4d36-9487-7a5f833dc3f3"
      },
      "execution_count": 8,
      "outputs": [
        {
          "output_type": "stream",
          "name": "stdout",
          "text": [
            "Digite seu nome: walesson\n",
            "É um prazer te conhecer walesson!\n"
          ]
        }
      ]
    },
    {
      "cell_type": "code",
      "source": [
        "## Exercício Python #003 - Somando dois números"
      ],
      "metadata": {
        "id": "0HxKsaU0jgLy"
      },
      "execution_count": 9,
      "outputs": []
    },
    {
      "cell_type": "code",
      "source": [
        "a = int(input('Digite um número: '))\n",
        "b = int(input('Digite outro núemro:'))\n",
        "\n",
        "soma = a+b\n",
        "print('A soma entre {} e {} é igual a: {}!'.format(a,b,soma))"
      ],
      "metadata": {
        "colab": {
          "base_uri": "https://localhost:8080/"
        },
        "id": "89Sl7vS5jmIG",
        "outputId": "68e101b1-ec87-4b3d-9802-b46a33f88237"
      },
      "execution_count": 17,
      "outputs": [
        {
          "output_type": "stream",
          "name": "stdout",
          "text": [
            "Digite um número: 10\n",
            "Digite outro núemro:10\n",
            "A soma entre 10 e 10 é igual a: 20!\n"
          ]
        }
      ]
    },
    {
      "cell_type": "code",
      "source": [
        "## Exercício Python #004 - Dissecando um variável"
      ],
      "metadata": {
        "id": "MIug6CWfkNdC"
      },
      "execution_count": 12,
      "outputs": []
    },
    {
      "cell_type": "code",
      "source": [
        "a = input('Digite algo ')\n",
        "print('O tipo primitivo desse valor é ', type(a))\n",
        "print('Só tem espaços?', a.isspace())\n",
        "print('É número? ', a.isnumeric())\n",
        "print('É alfabético? ', a.isalpha())\n",
        "print('É alfanumérico? ', a.isalnum())\n",
        "print('Está em maiúscula? ', a.isupper())\n",
        "print('Está em minúscula? ', a.islower())"
      ],
      "metadata": {
        "colab": {
          "base_uri": "https://localhost:8080/"
        },
        "id": "HV7vAhu7kUAI",
        "outputId": "f3c04700-0f02-4f29-9895-abe2c8303125"
      },
      "execution_count": 26,
      "outputs": [
        {
          "output_type": "stream",
          "name": "stdout",
          "text": [
            "Digite algo PYTHON\n",
            "O tipo primitivo desse valor é  <class 'str'>\n",
            "Só tem espaços? False\n",
            "É número?  False\n",
            "É alfabético?  True\n",
            "É alfanumérico?  True\n",
            "Está em maiúscula?  True\n",
            "Está em minúscula?  False\n"
          ]
        }
      ]
    },
    {
      "cell_type": "code",
      "source": [
        "## Exercício Python #005 - Antecessor e Sucessor"
      ],
      "metadata": {
        "id": "PrFBJrGeobPy"
      },
      "execution_count": 27,
      "outputs": []
    },
    {
      "cell_type": "code",
      "source": [
        "n = int(input('Digite um número: '))\n",
        "a = n - 1\n",
        "s = n + 1\n",
        "print('Anaalisando o valor {}, seu antecessor é {} e o sucessor é {}'.format(n,a,s))"
      ],
      "metadata": {
        "colab": {
          "base_uri": "https://localhost:8080/"
        },
        "id": "-8ZjkN8soj_O",
        "outputId": "e39700cb-f9de-4e80-9541-fd17e27be4d1"
      },
      "execution_count": 28,
      "outputs": [
        {
          "output_type": "stream",
          "name": "stdout",
          "text": [
            "Digite um número: 10\n",
            "Anaalisando o valor 10, seu antecessor é 9 e o sucessor é 11\n"
          ]
        }
      ]
    },
    {
      "cell_type": "code",
      "source": [
        "## Exercício Python #006 - Dobro, Triplo, Raiz Quadrada"
      ],
      "metadata": {
        "id": "cyID5Zt0pW8d"
      },
      "execution_count": 29,
      "outputs": []
    },
    {
      "cell_type": "code",
      "source": [
        "n = int(input('Digite um número: '))\n",
        "d = n * 2\n",
        "t = n * 3\n",
        "r = n**(1/2)\n",
        "print('O dobro de {} vale {}.'.format(n, d))\n",
        "print('O triplo de {} vale {}.'.format(n, t))\n",
        "print('A raiz quadrada de {} é {:.2f}.' .format(n, r))"
      ],
      "metadata": {
        "colab": {
          "base_uri": "https://localhost:8080/"
        },
        "id": "BmjRqn8JphgW",
        "outputId": "bd155c2f-83f5-4b26-e8fb-fc0ac0750007"
      },
      "execution_count": 34,
      "outputs": [
        {
          "output_type": "stream",
          "name": "stdout",
          "text": [
            "Digite um número: 20\n",
            "O dobro de 20 vale 40.\n",
            "O triplo de 20 vale 60.\n",
            "A raiz quadrada de 20 é 4.47.\n"
          ]
        }
      ]
    },
    {
      "cell_type": "code",
      "source": [
        "## Exercício Python #007 - Média"
      ],
      "metadata": {
        "id": "feuTxMZhtBkT"
      },
      "execution_count": 36,
      "outputs": []
    },
    {
      "cell_type": "code",
      "source": [
        "n1 = int(input('Digite sua primeira nota: '))\n",
        "n2 = int(input('Digite sua segunda nota: '))\n",
        "m = (n1+n2)/2\n",
        "print('A média de {} e {} é igual a: {:.2f}' .format(n1, n2, m))"
      ],
      "metadata": {
        "colab": {
          "base_uri": "https://localhost:8080/"
        },
        "id": "CPTkaypQtGfn",
        "outputId": "ed61483f-5b87-48e9-a591-a35eb2949157"
      },
      "execution_count": 37,
      "outputs": [
        {
          "output_type": "stream",
          "name": "stdout",
          "text": [
            "Digite sua primeira nota: 9\n",
            "Digite sua segunda nota: 8\n",
            "A média de 9 e 8 é igual a: 8.50\n"
          ]
        }
      ]
    },
    {
      "cell_type": "code",
      "source": [
        "## Exercício Python #008 - Conversor de Medidas"
      ],
      "metadata": {
        "id": "68XoRdkXtz_a"
      },
      "execution_count": 38,
      "outputs": []
    },
    {
      "cell_type": "code",
      "source": [
        "medida = float(input('Digite uma disntacia em metros: '))\n",
        "cm = medida * 100\n",
        "mm = medida * 1000\n",
        "print('A medida de {}m corresponde a {}cm e {}mm' .format(medida, cm, mm))"
      ],
      "metadata": {
        "colab": {
          "base_uri": "https://localhost:8080/"
        },
        "id": "OJpGiRmWuCN6",
        "outputId": "ec2d29c5-04fa-4e36-c7ee-b96257a837ac"
      },
      "execution_count": 39,
      "outputs": [
        {
          "output_type": "stream",
          "name": "stdout",
          "text": [
            "Digite uma disntacia em metros: 10\n",
            "A medida de 10.0m corresponde a 1000.0cm e 10000.0mm\n"
          ]
        }
      ]
    },
    {
      "cell_type": "code",
      "source": [
        "## Exercício Python #009 - Tabuada"
      ],
      "metadata": {
        "id": "TcGEH5wA2zwR"
      },
      "execution_count": 40,
      "outputs": []
    },
    {
      "cell_type": "code",
      "source": [
        "num = int(input('Digite um numero para ver a tabuada: '))\n",
        "print('{} x {} = {}' .format(num, 1 , num*1))\n",
        "print('{} x {} = {}' .format(num, 2 , num*2))\n",
        "print('{} x {} = {}' .format(num, 1 , num*3))\n",
        "print('{} x {} = {}' .format(num, 1 , num*4))\n",
        "print('{} x {} = {}' .format(num, 1 , num*5))\n",
        "print('{} x {} = {}' .format(num, 1 , num*6))\n",
        "print('{} x {} = {}' .format(num, 1 , num*7))\n",
        "print('{} x {} = {}' .format(num, 1 , num*8)) \n",
        "print('{} x {} = {}' .format(num, 1 , num*9))\n",
        "print('{} x {} = {}' .format(num, 1 , num*10))"
      ],
      "metadata": {
        "colab": {
          "base_uri": "https://localhost:8080/"
        },
        "id": "ioZiiKlm3HDW",
        "outputId": "9a70ff09-14b8-4bb2-eac0-d54d23579e09"
      },
      "execution_count": 43,
      "outputs": [
        {
          "output_type": "stream",
          "name": "stdout",
          "text": [
            "Digite um numero para ver a tabuada: 2\n",
            "2 x 1 = 2\n",
            "2 x 2 = 4\n",
            "2 x 1 = 6\n",
            "2 x 1 = 8\n",
            "2 x 1 = 10\n",
            "2 x 1 = 12\n",
            "2 x 1 = 14\n",
            "2 x 1 = 16\n",
            "2 x 1 = 18\n",
            "2 x 1 = 20\n"
          ]
        }
      ]
    },
    {
      "cell_type": "code",
      "source": [
        "## Exercício Python #010 - Conversor de moedas"
      ],
      "metadata": {
        "id": "jF_ZuqBX6QbA"
      },
      "execution_count": 44,
      "outputs": []
    },
    {
      "cell_type": "code",
      "source": [
        "real = float(input('Digite o valor que queira converter: '))\n",
        "dolar = real/5.19\n",
        "print('O valor convertido em Dolar é: ${:.2f}'.format(dolar))"
      ],
      "metadata": {
        "colab": {
          "base_uri": "https://localhost:8080/"
        },
        "id": "xgoE76of6TES",
        "outputId": "f958f1c3-5d6b-4536-91d4-3ede049fa1b0"
      },
      "execution_count": 55,
      "outputs": [
        {
          "output_type": "stream",
          "name": "stdout",
          "text": [
            "Digite o valor que queira converter: 100\n",
            "O valor convertido em Dolar é: $19.27\n"
          ]
        }
      ]
    },
    {
      "cell_type": "code",
      "source": [
        "## Exercício Python #011 - Pintando Parede"
      ],
      "metadata": {
        "id": "rTuxWRda8g_5"
      },
      "execution_count": 56,
      "outputs": []
    },
    {
      "cell_type": "code",
      "source": [
        "largura = float(input('Digite a largura da parede: '))\n",
        "altura = float(input('Digite a altura da parede: '))\n",
        "area = (largura * altura)\n",
        "print('Sua parede tem a dimensão de {}x{} é {:.0f}m²' .format(largura, altura, area))\n",
        "tinta = area /2\n",
        "print('Você irá precisar de {}L de tinta.'.format(tinta))"
      ],
      "metadata": {
        "colab": {
          "base_uri": "https://localhost:8080/"
        },
        "id": "3fMvhoWQ8ynm",
        "outputId": "646c9f76-c616-4ddc-f6eb-a906ab292d3f"
      },
      "execution_count": 67,
      "outputs": [
        {
          "output_type": "stream",
          "name": "stdout",
          "text": [
            "Digite a largura da parede: 8\n",
            "Digite a altura da parede: 8\n",
            "Sua parede tem a dimensão de 8.0x8.0 é 64m²\n",
            "Você irá precisar de 32.0L de tinta.\n"
          ]
        }
      ]
    },
    {
      "cell_type": "code",
      "source": [
        "## Exercício Python #012 - Desconto"
      ],
      "metadata": {
        "id": "redt9_8nCaKG"
      },
      "execution_count": 68,
      "outputs": []
    },
    {
      "cell_type": "code",
      "source": [
        "valor = float(input('Digite o valor total: R$ '))\n",
        "desconto = float(input('Digite o desconto ofertado: '))\n",
        "valorFinal = valor - (valor * desconto / 100)\n",
        "print('O produto que custava R${:.2f}, na promoção com desconto de {:.0f}%, saiu por: R${:.2f}' .format(valor, desconto, valorFinal))"
      ],
      "metadata": {
        "colab": {
          "base_uri": "https://localhost:8080/"
        },
        "id": "NkyXh-rECdG4",
        "outputId": "8a903d49-5e4f-44c7-fc1e-6569b3f17343"
      },
      "execution_count": 74,
      "outputs": [
        {
          "output_type": "stream",
          "name": "stdout",
          "text": [
            "Digite o valor total: R$ 200\n",
            "Digite o desconto ofertado: 10\n",
            "O produto que custava R$200.00, na promoção com desconto de 10%, saiu por: R$180.00\n"
          ]
        }
      ]
    },
    {
      "cell_type": "code",
      "source": [
        "## Exercício Python #013 - Aumento Salarial"
      ],
      "metadata": {
        "id": "ruCvG7ApGUn9"
      },
      "execution_count": 75,
      "outputs": []
    },
    {
      "cell_type": "code",
      "source": [
        "salario = float(input('Digite o salário: R$'))\n",
        "aumento = float(input('Digite o aumento: '))\n",
        "valorFinal = salario + (salario * aumento / 100)\n",
        "print('Seu salário antigo é de R${:.2f}, você teve um aumento de {:.0f}%, saiu por R${:.2f}' . format(salario, aumento, valorFinal))"
      ],
      "metadata": {
        "colab": {
          "base_uri": "https://localhost:8080/"
        },
        "id": "WDKUHqUCGcsU",
        "outputId": "c186f68a-03fa-4a57-ec78-741d4b5f1ebe"
      },
      "execution_count": 79,
      "outputs": [
        {
          "output_type": "stream",
          "name": "stdout",
          "text": [
            "Digite o salário: R$3000\n",
            "Digite o aumento: 7\n",
            "Seu salário antigo é de R$3000.00, você teve um aumento de 7%, saiu por R$3210.00\n"
          ]
        }
      ]
    },
    {
      "cell_type": "code",
      "source": [
        "## Exercício Python #014 - Conversor de temperaturas"
      ],
      "metadata": {
        "id": "cvKSV8KnIAeD"
      },
      "execution_count": 80,
      "outputs": []
    },
    {
      "cell_type": "code",
      "source": [
        "c = float(input('Informe a temperatura em °C: '))\n",
        "f = ((9*c)/5)+32\n",
        "print('A temperatura de {}°C corresponde a {}°F' .format(c, f))"
      ],
      "metadata": {
        "colab": {
          "base_uri": "https://localhost:8080/"
        },
        "id": "thivI0p9ILC-",
        "outputId": "6e132000-5142-45b8-9fb9-ac79cacc9360"
      },
      "execution_count": 82,
      "outputs": [
        {
          "output_type": "stream",
          "name": "stdout",
          "text": [
            "Informe a temperatura em °C: 40\n",
            "A temperatura de 40.0°C corresponde a 104.0°F\n"
          ]
        }
      ]
    },
    {
      "cell_type": "code",
      "source": [
        "## Exercício Python #015 - Aluguel de carros"
      ],
      "metadata": {
        "id": "8dA2KQPZM105"
      },
      "execution_count": 84,
      "outputs": []
    },
    {
      "cell_type": "code",
      "source": [
        "dias = int(input('Quantos dias alugados? '))\n",
        "km = int(input('Quantos km rodados? '))\n",
        "valor = ((dias * 60) + (km * 0.15))\n",
        "print('O total a pagar é de R${:.2f}' .format(valor))"
      ],
      "metadata": {
        "colab": {
          "base_uri": "https://localhost:8080/"
        },
        "id": "FkItX4aUM6PF",
        "outputId": "39a5823e-257a-4cc7-a224-1cadbe21f000"
      },
      "execution_count": 86,
      "outputs": [
        {
          "output_type": "stream",
          "name": "stdout",
          "text": [
            "Quantos dias alugados? 5\n",
            "Quantos km rodados? 300\n",
            "O total a pagar é de R$345.00\n"
          ]
        }
      ]
    },
    {
      "cell_type": "code",
      "source": [
        "## Exercício Python #016 - Quebrando um número"
      ],
      "metadata": {
        "id": "vgnHx2aJl0G6"
      },
      "execution_count": 1,
      "outputs": []
    },
    {
      "cell_type": "code",
      "source": [
        "from math import trunc"
      ],
      "metadata": {
        "id": "vz79ZNZrmdtD"
      },
      "execution_count": 6,
      "outputs": []
    },
    {
      "cell_type": "code",
      "source": [
        "#num = float(input('Digite um valor: '))\n",
        "#print('O valor digitado é {} e sua porção inteira é {}'.format(num, trunc(num)))\n",
        "\n",
        "num = float(input('Digite um valor: '))\n",
        "print('O valor digitado é {} e sua porção inteira é {}'.format(num, int(num)))"
      ],
      "metadata": {
        "colab": {
          "base_uri": "https://localhost:8080/"
        },
        "id": "fW-wcPAul5U3",
        "outputId": "1fc88555-a8df-413e-97f5-4822e36b0544"
      },
      "execution_count": 9,
      "outputs": [
        {
          "output_type": "stream",
          "name": "stdout",
          "text": [
            "Digite um valor: 825.555\n",
            "O valor digitado é 825.555 e sua porção inteira é 825\n"
          ]
        }
      ]
    },
    {
      "cell_type": "code",
      "source": [
        "## Exercício Python #017 - Catettos e Hipotenusa"
      ],
      "metadata": {
        "id": "yJ8pY2pQn4V7"
      },
      "execution_count": 10,
      "outputs": []
    },
    {
      "cell_type": "code",
      "source": [
        "import math "
      ],
      "metadata": {
        "id": "kgFJEofco_Jj"
      },
      "execution_count": 13,
      "outputs": []
    },
    {
      "cell_type": "code",
      "source": [
        "co = float(input('Comprimento do cateto oposto: '))\n",
        "ca = float(input('Comprimento do cateto adjacente : '))\n",
        "#hi = (co** 2 + ca **2) ** (1/2)\n",
        "#print('A hipotenusa vai medir: {:.2f}'.format(hi))\n",
        "\n",
        "\n",
        "hi = math.hypot(co, ca)\n",
        "print('A hipotenusa vai medir: {:.2f}' .format(hi))"
      ],
      "metadata": {
        "colab": {
          "base_uri": "https://localhost:8080/"
        },
        "id": "pn13R7Kqn9o5",
        "outputId": "54a8309c-2386-460f-aad9-932f3d389d27"
      },
      "execution_count": 17,
      "outputs": [
        {
          "output_type": "stream",
          "name": "stdout",
          "text": [
            "Comprimento do cateto oposto: 85\n",
            "Comprimento do cateto adjacente : 74\n",
            "A hipotenusa vai medir: 112.70\n"
          ]
        }
      ]
    },
    {
      "cell_type": "code",
      "source": [
        "## Exercício Python #018 - Seno, cosseno e Tangente"
      ],
      "metadata": {
        "id": "_xFMmzRMp2bc"
      },
      "execution_count": 18,
      "outputs": []
    },
    {
      "cell_type": "code",
      "source": [
        "from math import sin, cos, tan, radians "
      ],
      "metadata": {
        "id": "eKvMHxZwqX-Y"
      },
      "execution_count": 26,
      "outputs": []
    },
    {
      "cell_type": "code",
      "source": [
        "an = float(input('Digite o angulo que deseja: '))\n",
        "s = sin(radians(an))\n",
        "print('O ângulo de {} tem o SENO de {:.2f}'.format(an, s))\n",
        "c = cos(radians(an))\n",
        "print('O ângulo de {} tem o Consseno de {:.2f}'.format(an, c))\n",
        "t = tan(radians(an))\n",
        "print('O ângulo de {} tem o Tangente de {:.2f}'.format(an, t))"
      ],
      "metadata": {
        "colab": {
          "base_uri": "https://localhost:8080/"
        },
        "id": "Vw4mDj5lp-1T",
        "outputId": "1a2a5c7e-6a2b-4a92-e988-167afd1248b7"
      },
      "execution_count": 27,
      "outputs": [
        {
          "output_type": "stream",
          "name": "stdout",
          "text": [
            "Digite o angulo que deseja: 30\n",
            "O ângulo de 30.0 tem o SENO de 0.50\n",
            "O ângulo de 30.0 tem o Consseno de 0.87\n",
            "O ângulo de 30.0 tem o Tangente de 0.58\n"
          ]
        }
      ]
    },
    {
      "cell_type": "code",
      "source": [
        "## Exercício Python #019 - Sorteando um item na lista"
      ],
      "metadata": {
        "id": "MOhHvd4Ls4wU"
      },
      "execution_count": 28,
      "outputs": []
    },
    {
      "cell_type": "code",
      "source": [
        "import random"
      ],
      "metadata": {
        "id": "LETc38-Ls8Yw"
      },
      "execution_count": 30,
      "outputs": []
    },
    {
      "cell_type": "code",
      "source": [
        "n1 = input('Digite o 1º nome: ')\n",
        "n2 = input('Digite o 2º nome: ')\n",
        "n3 = input('Digite o 3º nome: ')\n",
        "n4 = input('Digite o 4º nome: ')\n",
        "lista = [n1, n2, n3, n4]\n",
        "sorteio = random.choice(lista)\n",
        "print(sorteio)"
      ],
      "metadata": {
        "colab": {
          "base_uri": "https://localhost:8080/"
        },
        "id": "p3ycLHR1tg6L",
        "outputId": "bab62a19-f387-4c61-ced2-5089e6853501"
      },
      "execution_count": 36,
      "outputs": [
        {
          "output_type": "stream",
          "name": "stdout",
          "text": [
            "Digite o 1º nome: gabi\n",
            "Digite o 2º nome: josi\n",
            "Digite o 3º nome: leici\n",
            "Digite o 4º nome: leni\n",
            "leici\n"
          ]
        }
      ]
    },
    {
      "cell_type": "code",
      "source": [
        "## Exercício Python #020 - Sorteando uma ordem na lista"
      ],
      "metadata": {
        "id": "fdpfIVhxvjGm"
      },
      "execution_count": 37,
      "outputs": []
    },
    {
      "cell_type": "code",
      "source": [
        "from random import shuffle"
      ],
      "metadata": {
        "id": "CW0yxr5z57NE"
      },
      "execution_count": 39,
      "outputs": []
    },
    {
      "cell_type": "code",
      "source": [
        "n1 = str(input('Primeiro nome: '))\n",
        "n2 = str(input('Segundo nome: '))\n",
        "n3 = str(input('Terceito nome: '))\n",
        "n4 = str(input('Quarto nome: '))\n",
        "lista = [n1, n2, n3, n4]\n",
        "random.shuffle(lista)\n",
        "print('A ordem do sorteio será: {}'.format(lista))"
      ],
      "metadata": {
        "colab": {
          "base_uri": "https://localhost:8080/"
        },
        "id": "qZhDHDNzvmE7",
        "outputId": "0a47d33e-89f3-4a66-aa79-bcc0d69969ce"
      },
      "execution_count": 44,
      "outputs": [
        {
          "output_type": "stream",
          "name": "stdout",
          "text": [
            "Primeiro nome: jose\n",
            "Segundo nome: pedro\n",
            "Terceito nome: vitor\n",
            "Quarto nome: carlos\n",
            "A ordem do sorteio será: ['carlos', 'jose', 'pedro', 'vitor']\n"
          ]
        }
      ]
    }
  ]
}