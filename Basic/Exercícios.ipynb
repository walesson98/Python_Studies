{
  "nbformat": 4,
  "nbformat_minor": 0,
  "metadata": {
    "colab": {
      "name": "Exercícios.ipynb",
      "provenance": [],
      "collapsed_sections": [],
      "authorship_tag": "ABX9TyMgEFUIxkzucr3oPaATe5ea",
      "include_colab_link": true
    },
    "kernelspec": {
      "name": "python3",
      "display_name": "Python 3"
    }
  },
  "cells": [
    {
      "cell_type": "markdown",
      "metadata": {
        "id": "view-in-github",
        "colab_type": "text"
      },
      "source": [
        "<a href=\"https://colab.research.google.com/github/walesson98/Python_Studies/blob/main/Basic/Exerc%C3%ADcios.ipynb\" target=\"_parent\"><img src=\"https://colab.research.google.com/assets/colab-badge.svg\" alt=\"Open In Colab\"/></a>"
      ]
    },
    {
      "cell_type": "code",
      "metadata": {
        "id": "hJai_lbjbLV1"
      },
      "source": [
        "## Exercício Python #002 - Respondendo ao Usuário"
      ],
      "execution_count": 6,
      "outputs": []
    },
    {
      "cell_type": "code",
      "source": [
        "nome = input('Digite seu nome: ')\n",
        "print('É um prazer te conhecer {}!'.format(nome))"
      ],
      "metadata": {
        "colab": {
          "base_uri": "https://localhost:8080/"
        },
        "id": "ovLvk41Thqa-",
        "outputId": "2c5fc92f-229c-4d36-9487-7a5f833dc3f3"
      },
      "execution_count": 8,
      "outputs": [
        {
          "output_type": "stream",
          "name": "stdout",
          "text": [
            "Digite seu nome: walesson\n",
            "É um prazer te conhecer walesson!\n"
          ]
        }
      ]
    },
    {
      "cell_type": "code",
      "source": [
        "## Exercício Python #003 - Somando dois números"
      ],
      "metadata": {
        "id": "0HxKsaU0jgLy"
      },
      "execution_count": 9,
      "outputs": []
    },
    {
      "cell_type": "code",
      "source": [
        "a = int(input('Digite um número: '))\n",
        "b = int(input('Digite outro núemro:'))\n",
        "\n",
        "soma = a+b\n",
        "print('A soma entre {} e {} é igual a: {}!'.format(a,b,soma))"
      ],
      "metadata": {
        "colab": {
          "base_uri": "https://localhost:8080/"
        },
        "id": "89Sl7vS5jmIG",
        "outputId": "68e101b1-ec87-4b3d-9802-b46a33f88237"
      },
      "execution_count": 17,
      "outputs": [
        {
          "output_type": "stream",
          "name": "stdout",
          "text": [
            "Digite um número: 10\n",
            "Digite outro núemro:10\n",
            "A soma entre 10 e 10 é igual a: 20!\n"
          ]
        }
      ]
    },
    {
      "cell_type": "code",
      "source": [
        "## Exercício Python #004 - Dissecando um variável"
      ],
      "metadata": {
        "id": "MIug6CWfkNdC"
      },
      "execution_count": 12,
      "outputs": []
    },
    {
      "cell_type": "code",
      "source": [
        "a = input('Digite algo ')\n",
        "print('O tipo primitivo desse valor é ', type(a))\n",
        "print('Só tem espaços?', a.isspace())\n",
        "print('É número? ', a.isnumeric())\n",
        "print('É alfabético? ', a.isalpha())\n",
        "print('É alfanumérico? ', a.isalnum())\n",
        "print('Está em maiúscula? ', a.isupper())\n",
        "print('Está em minúscula? ', a.islower())"
      ],
      "metadata": {
        "colab": {
          "base_uri": "https://localhost:8080/"
        },
        "id": "HV7vAhu7kUAI",
        "outputId": "f3c04700-0f02-4f29-9895-abe2c8303125"
      },
      "execution_count": 26,
      "outputs": [
        {
          "output_type": "stream",
          "name": "stdout",
          "text": [
            "Digite algo PYTHON\n",
            "O tipo primitivo desse valor é  <class 'str'>\n",
            "Só tem espaços? False\n",
            "É número?  False\n",
            "É alfabético?  True\n",
            "É alfanumérico?  True\n",
            "Está em maiúscula?  True\n",
            "Está em minúscula?  False\n"
          ]
        }
      ]
    },
    {
      "cell_type": "code",
      "source": [
        "## Exercício Python #005 - Antecessor e Sucessor"
      ],
      "metadata": {
        "id": "PrFBJrGeobPy"
      },
      "execution_count": 27,
      "outputs": []
    },
    {
      "cell_type": "code",
      "source": [
        "n = int(input('Digite um número: '))\n",
        "a = n - 1\n",
        "s = n + 1\n",
        "print('Anaalisando o valor {}, seu antecessor é {} e o sucessor é {}'.format(n,a,s))"
      ],
      "metadata": {
        "colab": {
          "base_uri": "https://localhost:8080/"
        },
        "id": "-8ZjkN8soj_O",
        "outputId": "e39700cb-f9de-4e80-9541-fd17e27be4d1"
      },
      "execution_count": 28,
      "outputs": [
        {
          "output_type": "stream",
          "name": "stdout",
          "text": [
            "Digite um número: 10\n",
            "Anaalisando o valor 10, seu antecessor é 9 e o sucessor é 11\n"
          ]
        }
      ]
    },
    {
      "cell_type": "code",
      "source": [
        "## Exercício Python #006 - Dobro, Triplo, Raiz Quadrada"
      ],
      "metadata": {
        "id": "cyID5Zt0pW8d"
      },
      "execution_count": 29,
      "outputs": []
    },
    {
      "cell_type": "code",
      "source": [
        "n = int(input('Digite um número: '))\n",
        "d = n * 2\n",
        "t = n * 3\n",
        "r = n**(1/2)\n",
        "print('O dobro de {} vale {}.'.format(n, d))\n",
        "print('O triplo de {} vale {}.'.format(n, t))\n",
        "print('A raiz quadrada de {} é {:.2f}.' .format(n, r))"
      ],
      "metadata": {
        "colab": {
          "base_uri": "https://localhost:8080/"
        },
        "id": "BmjRqn8JphgW",
        "outputId": "bd155c2f-83f5-4b26-e8fb-fc0ac0750007"
      },
      "execution_count": 34,
      "outputs": [
        {
          "output_type": "stream",
          "name": "stdout",
          "text": [
            "Digite um número: 20\n",
            "O dobro de 20 vale 40.\n",
            "O triplo de 20 vale 60.\n",
            "A raiz quadrada de 20 é 4.47.\n"
          ]
        }
      ]
    },
    {
      "cell_type": "code",
      "source": [
        "## Exercício Python #007 - Média"
      ],
      "metadata": {
        "id": "feuTxMZhtBkT"
      },
      "execution_count": 36,
      "outputs": []
    },
    {
      "cell_type": "code",
      "source": [
        "n1 = int(input('Digite sua primeira nota: '))\n",
        "n2 = int(input('Digite sua segunda nota: '))\n",
        "m = (n1+n2)/2\n",
        "print('A média de {} e {} é igual a: {:.2f}' .format(n1, n2, m))"
      ],
      "metadata": {
        "colab": {
          "base_uri": "https://localhost:8080/"
        },
        "id": "CPTkaypQtGfn",
        "outputId": "ed61483f-5b87-48e9-a591-a35eb2949157"
      },
      "execution_count": 37,
      "outputs": [
        {
          "output_type": "stream",
          "name": "stdout",
          "text": [
            "Digite sua primeira nota: 9\n",
            "Digite sua segunda nota: 8\n",
            "A média de 9 e 8 é igual a: 8.50\n"
          ]
        }
      ]
    },
    {
      "cell_type": "code",
      "source": [
        "## Exercício Python #008 - Conversor de Medidas"
      ],
      "metadata": {
        "id": "68XoRdkXtz_a"
      },
      "execution_count": 38,
      "outputs": []
    },
    {
      "cell_type": "code",
      "source": [
        "medida = float(input('Digite uma disntacia em metros: '))\n",
        "cm = medida * 100\n",
        "mm = medida * 1000\n",
        "print('A medida de {}m corresponde a {}cm e {}mm' .format(medida, cm, mm))"
      ],
      "metadata": {
        "colab": {
          "base_uri": "https://localhost:8080/"
        },
        "id": "OJpGiRmWuCN6",
        "outputId": "ec2d29c5-04fa-4e36-c7ee-b96257a837ac"
      },
      "execution_count": 39,
      "outputs": [
        {
          "output_type": "stream",
          "name": "stdout",
          "text": [
            "Digite uma disntacia em metros: 10\n",
            "A medida de 10.0m corresponde a 1000.0cm e 10000.0mm\n"
          ]
        }
      ]
    }
  ]
}