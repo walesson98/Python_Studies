{
  "nbformat": 4,
  "nbformat_minor": 0,
  "metadata": {
    "colab": {
      "name": "Exercício Python #034.ipynb",
      "provenance": [],
      "collapsed_sections": [],
      "authorship_tag": "ABX9TyPgBxcbmAXjmDBabRQLcANO",
      "include_colab_link": true
    },
    "kernelspec": {
      "name": "python3",
      "display_name": "Python 3"
    },
    "language_info": {
      "name": "python"
    }
  },
  "cells": [
    {
      "cell_type": "markdown",
      "metadata": {
        "id": "view-in-github",
        "colab_type": "text"
      },
      "source": [
        "<a href=\"https://colab.research.google.com/github/walesson98/Python_Studies/blob/main/Basic/Exerc%C3%ADcio_Python_034.ipynb\" target=\"_parent\"><img src=\"https://colab.research.google.com/assets/colab-badge.svg\" alt=\"Open In Colab\"/></a>"
      ]
    },
    {
      "cell_type": "code",
      "source": [
        "##Exercício Python #034 - Aumento múltiplos"
      ],
      "metadata": {
        "id": "7d2x3cu5UTfW"
      },
      "execution_count": null,
      "outputs": []
    },
    {
      "cell_type": "code",
      "execution_count": null,
      "metadata": {
        "colab": {
          "base_uri": "https://localhost:8080/"
        },
        "id": "tQIsggyFQWNq",
        "outputId": "7491336e-a68a-4e30-9b68-a2bd612b47ce"
      },
      "outputs": [
        {
          "output_type": "stream",
          "name": "stdout",
          "text": [
            "Digite o seu salário: R$2500\n",
            "O seu sálario é R$2500.0 você teve aumento de 10 e seu salário atual é de R$2750.0\n"
          ]
        }
      ],
      "source": [
        "\n",
        "salario = float(input('Digite o seu salário: R$'))\n",
        "aumento01 = 10\n",
        "aumento02 = 15\n",
        "if salario > 1250.00:\n",
        "    SAtual = salario + (salario*aumento01 /100)\n",
        "    print('O seu sálario é R${} você teve aumento de {} e seu salário atual é de R${}'.format(salario, aumento01, SAtual))\n",
        "elif salario <= 1250.00:\n",
        "    SAtual = salario + (salario*aumento02 /100)\n",
        "    print('O seu sálario é R${} você teve aumento de {} e seu salário atual é de R${}'.format(salario, aumento02, SAtual))"
      ]
    }
  ]
}