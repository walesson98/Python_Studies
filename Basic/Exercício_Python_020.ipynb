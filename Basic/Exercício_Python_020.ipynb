{
  "nbformat": 4,
  "nbformat_minor": 0,
  "metadata": {
    "colab": {
      "name": "Exercício Python #020.ipynb",
      "provenance": []
    },
    "kernelspec": {
      "name": "python3",
      "display_name": "Python 3"
    },
    "language_info": {
      "name": "python"
    }
  },
  "cells": [
    {
      "cell_type": "code",
      "execution_count": null,
      "metadata": {
        "id": "26zgcUzfzCi2"
      },
      "outputs": [],
      "source": [
        "## Exercício Python #020 - Sorteando uma ordem na lista"
      ]
    },
    {
      "cell_type": "code",
      "source": [
        "import random"
      ],
      "metadata": {
        "id": "EjTD2We3zDTU"
      },
      "execution_count": 12,
      "outputs": []
    },
    {
      "cell_type": "code",
      "source": [
        "n1 = str(input('Primeiro nome: '))\n",
        "n2 = str(input('Segundo nome: '))\n",
        "n3 = str(input('Terceito nome: '))\n",
        "n4 = str(input('Quarto nome: '))\n",
        "lista = [n1, n2, n3, n4]\n",
        "random.shuffle(lista)\n",
        "print('A ordem do sorteio será: {}'.format(lista))"
      ],
      "metadata": {
        "colab": {
          "base_uri": "https://localhost:8080/"
        },
        "id": "sAc7An340Fpq",
        "outputId": "f3f56352-c7fe-4ffb-eee3-fea8ce380f9d"
      },
      "execution_count": 13,
      "outputs": [
        {
          "output_type": "stream",
          "name": "stdout",
          "text": [
            "Primeiro nome: ana\n",
            "Segundo nome: jose\n",
            "Terceito nome: paula \n",
            "Quarto nome: pedro\n",
            "A ordem do sorteio será: ['jose', 'ana', 'paula ', 'pedro']\n"
          ]
        }
      ]
    }
  ]
}