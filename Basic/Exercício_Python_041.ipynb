{
  "nbformat": 4,
  "nbformat_minor": 0,
  "metadata": {
    "colab": {
      "name": "Python Exercício #041 .ipynb",
      "provenance": [],
      "collapsed_sections": [],
      "authorship_tag": "ABX9TyPmxIoTYLsMPGq6DKzVWOZ3",
      "include_colab_link": true
    },
    "kernelspec": {
      "name": "python3",
      "display_name": "Python 3"
    },
    "language_info": {
      "name": "python"
    }
  },
  "cells": [
    {
      "cell_type": "markdown",
      "metadata": {
        "id": "view-in-github",
        "colab_type": "text"
      },
      "source": [
        "<a href=\"https://colab.research.google.com/github/walesson98/Python_Studies/blob/main/Basic/Python_Exerc%C3%ADcio_041_.ipynb\" target=\"_parent\"><img src=\"https://colab.research.google.com/assets/colab-badge.svg\" alt=\"Open In Colab\"/></a>"
      ]
    },
    {
      "cell_type": "code",
      "source": [
        "##Python Exercício #041 - Classificando Atletas"
      ],
      "metadata": {
        "id": "kBoRyX01xAuO"
      },
      "execution_count": null,
      "outputs": []
    },
    {
      "cell_type": "code",
      "source": [
        "from datetime import date"
      ],
      "metadata": {
        "id": "ykD-MtPiwNcq"
      },
      "execution_count": 2,
      "outputs": []
    },
    {
      "cell_type": "code",
      "source": [
        "anoNasc = int(input('Digite em que ano você nasceu: '))\n",
        "anoAtual = date.today().year\n",
        "\n",
        "idade = anoAtual - anoNasc \n",
        "print('O atleta tem {} anos.'.format(idade))\n",
        "if idade <= 9:\n",
        "    print('Classificação: MIRIM')\n",
        "elif idade <= 14:\n",
        "    print('Classificação: INFANTIL')\n",
        "elif idade <= 19:\n",
        "    print('Classificação: JÚNIOR')\n",
        "elif idade <= 25:\n",
        "    print('Classificação: SÊNIOR')\n",
        "else:\n",
        "    print('Classificação: MASTER')"
      ],
      "metadata": {
        "colab": {
          "base_uri": "https://localhost:8080/"
        },
        "id": "PZGsulOcwC8b",
        "outputId": "b5c299c6-eedc-43b0-b1d9-8c7bbf96f6fb"
      },
      "execution_count": 9,
      "outputs": [
        {
          "output_type": "stream",
          "name": "stdout",
          "text": [
            "Digite em que ano você nasceu: 2006\n",
            "O atleta tem 16 anos.\n",
            "Classificação: JÚNIOR\n"
          ]
        }
      ]
    }
  ]
}
