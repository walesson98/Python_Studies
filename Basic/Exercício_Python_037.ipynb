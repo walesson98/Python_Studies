{
  "nbformat": 4,
  "nbformat_minor": 0,
  "metadata": {
    "colab": {
      "name": "Exercício Python #037.ipynb",
      "provenance": [],
      "collapsed_sections": [],
      "authorship_tag": "ABX9TyOPztObIPSXuXq5/yzvkoZj",
      "include_colab_link": true
    },
    "kernelspec": {
      "name": "python3",
      "display_name": "Python 3"
    },
    "language_info": {
      "name": "python"
    }
  },
  "cells": [
    {
      "cell_type": "markdown",
      "metadata": {
        "id": "view-in-github",
        "colab_type": "text"
      },
      "source": [
        "<a href=\"https://colab.research.google.com/github/walesson98/Python_Studies/blob/main/Basic/Exerc%C3%ADcio_Python_037.ipynb\" target=\"_parent\"><img src=\"https://colab.research.google.com/assets/colab-badge.svg\" alt=\"Open In Colab\"/></a>"
      ]
    },
    {
      "cell_type": "code",
      "execution_count": null,
      "metadata": {
        "id": "aZ7YfZ6a9nv2"
      },
      "outputs": [],
      "source": [
        "##Exercício Python #037 - Conversor de Bases Numéricas"
      ]
    },
    {
      "cell_type": "code",
      "source": [
        "num = int(input('DIgite um número inteiro: '))\n",
        "print('''Escolha uma das bases para conversão :\n",
        "[ 1 ] Converter para BINÁRIO \n",
        "[ 2 ] Converter para OCTAL\n",
        "[ 3 ] Converter para HEXADECIMAL''')\n",
        "opcao = int(input('Sua opção: '))\n",
        "if opcao == 1:\n",
        "  print('{} convertido para BINÁRIO é igual a {}'.format(num, bin(num)))\n",
        "elif opcao == 2:\n",
        "  print('{} convertido para OCTAL é igual a {}'.format(num, oct(num)))\n",
        "elif opcao == 3:\n",
        "  print('{} convertido para HEXADECIMAL é igual a {}'.format(num, hex(num)))\n",
        "else:\n",
        "  print('Opção não encontrada!')\n"
      ],
      "metadata": {
        "colab": {
          "base_uri": "https://localhost:8080/"
        },
        "id": "oLh_E4sNB3vA",
        "outputId": "0e0c1749-049c-44a1-86de-b0d5fca09569"
      },
      "execution_count": 3,
      "outputs": [
        {
          "output_type": "stream",
          "name": "stdout",
          "text": [
            "DIgite um número inteiro: 321\n",
            "Escolha uma das bases para conversão :\n",
            "[ 1 ] Converter para BINÁRIO \n",
            "[ 2 ] Converter para OCTAL\n",
            "[ 3 ] Converter para HEXADECIMAL\n",
            "Sua opção: 3\n",
            "321 convertido para HEXADECIMAL é igual a 0x141\n"
          ]
        }
      ]
    }
  ]
}