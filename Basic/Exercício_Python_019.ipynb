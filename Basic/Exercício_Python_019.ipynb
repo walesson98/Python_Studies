{
  "nbformat": 4,
  "nbformat_minor": 0,
  "metadata": {
    "colab": {
      "name": "Exercício Python #019.ipynb",
      "provenance": []
    },
    "kernelspec": {
      "name": "python3",
      "display_name": "Python 3"
    },
    "language_info": {
      "name": "python"
    }
  },
  "cells": [
    {
      "cell_type": "code",
      "execution_count": null,
      "metadata": {
        "id": "dADELGCoyy4W"
      },
      "outputs": [],
      "source": [
        "## Exercício Python #019 - Sorteando um item na lista"
      ]
    },
    {
      "cell_type": "code",
      "source": [
        "import random"
      ],
      "metadata": {
        "id": "aalMk4quy0n_"
      },
      "execution_count": 1,
      "outputs": []
    },
    {
      "cell_type": "code",
      "source": [
        "n1 = input('Digite o 1º nome: ')\n",
        "n2 = input('Digite o 2º nome: ')\n",
        "n3 = input('Digite o 3º nome: ')\n",
        "n4 = input('Digite o 4º nome: ')\n",
        "lista = [n1, n2, n3, n4]\n",
        "sorteio = random.choice(lista)\n",
        "print(sorteio)"
      ],
      "metadata": {
        "colab": {
          "base_uri": "https://localhost:8080/"
        },
        "id": "RUc5r1Zvy5no",
        "outputId": "35cabf24-6ba4-4fb3-fac3-61d2f1f8948a"
      },
      "execution_count": 2,
      "outputs": [
        {
          "output_type": "stream",
          "name": "stdout",
          "text": [
            "Digite o 1º nome: jose\n",
            "Digite o 2º nome: carlos\n",
            "Digite o 3º nome: pedro\n",
            "Digite o 4º nome: antonio\n",
            "antonio\n"
          ]
        }
      ]
    },
    {
      "cell_type": "code",
      "source": [
        ""
      ],
      "metadata": {
        "id": "qG1sJD_1y0hG"
      },
      "execution_count": null,
      "outputs": []
    }
  ]
}