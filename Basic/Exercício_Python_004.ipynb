{
  "nbformat": 4,
  "nbformat_minor": 0,
  "metadata": {
    "colab": {
      "name": "Exercício Python #004.ipynb",
      "provenance": []
    },
    "kernelspec": {
      "name": "python3",
      "display_name": "Python 3"
    },
    "language_info": {
      "name": "python"
    }
  },
  "cells": [
    {
      "cell_type": "code",
      "execution_count": 1,
      "metadata": {
        "id": "MGwFY5c8s_MP"
      },
      "outputs": [],
      "source": [
        "## Exercício Python #004 - Dissecando um variável"
      ]
    },
    {
      "cell_type": "code",
      "source": [
        "a = input('Digite algo ')\n",
        "print('O tipo primitivo desse valor é ', type(a))\n",
        "print('Só tem espaços?', a.isspace())\n",
        "print('É número? ', a.isnumeric())\n",
        "print('É alfabético? ', a.isalpha())\n",
        "print('É alfanumérico? ', a.isalnum())\n",
        "print('Está em maiúscula? ', a.isupper())\n",
        "print('Está em minúscula? ', a.islower())"
      ],
      "metadata": {
        "colab": {
          "base_uri": "https://localhost:8080/"
        },
        "id": "hoRKIXwHtF-x",
        "outputId": "4c9e4047-eefe-42ba-f656-d67da68ba1e9"
      },
      "execution_count": 2,
      "outputs": [
        {
          "output_type": "stream",
          "name": "stdout",
          "text": [
            "Digite algo PYTHON\n",
            "O tipo primitivo desse valor é  <class 'str'>\n",
            "Só tem espaços? False\n",
            "É número?  False\n",
            "É alfabético?  True\n",
            "É alfanumérico?  True\n",
            "Está em maiúscula?  True\n",
            "Está em minúscula?  False\n"
          ]
        }
      ]
    },
    {
      "cell_type": "code",
      "source": [
        ""
      ],
      "metadata": {
        "id": "qPAKp75WtJj2"
      },
      "execution_count": null,
      "outputs": []
    }
  ]
}