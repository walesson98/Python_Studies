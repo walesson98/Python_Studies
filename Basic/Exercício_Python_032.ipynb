{
  "nbformat": 4,
  "nbformat_minor": 0,
  "metadata": {
    "colab": {
      "name": "Exercício Python #032.ipynb",
      "provenance": [],
      "collapsed_sections": [],
      "authorship_tag": "ABX9TyPuwAi/GllkKn6S0+LfWHNQ",
      "include_colab_link": true
    },
    "kernelspec": {
      "name": "python3",
      "display_name": "Python 3"
    },
    "language_info": {
      "name": "python"
    }
  },
  "cells": [
    {
      "cell_type": "markdown",
      "metadata": {
        "id": "view-in-github",
        "colab_type": "text"
      },
      "source": [
        "<a href=\"https://colab.research.google.com/github/walesson98/Python_Studies/blob/main/Basic/Exerc%C3%ADcio_Python_032.ipynb\" target=\"_parent\"><img src=\"https://colab.research.google.com/assets/colab-badge.svg\" alt=\"Open In Colab\"/></a>"
      ]
    },
    {
      "cell_type": "code",
      "source": [
        "##Exercício Python #032 - Ano Bissexto"
      ],
      "metadata": {
        "id": "bDYAtZ9Fn4YM"
      },
      "execution_count": null,
      "outputs": []
    },
    {
      "cell_type": "code",
      "source": [
        "from datetime import date"
      ],
      "metadata": {
        "id": "0QnP4qaEoyL6"
      },
      "execution_count": null,
      "outputs": []
    },
    {
      "cell_type": "code",
      "execution_count": null,
      "metadata": {
        "colab": {
          "base_uri": "https://localhost:8080/"
        },
        "id": "4eOQUHlffqSh",
        "outputId": "31117aee-e472-4010-88c1-5b3cfd292e21"
      },
      "outputs": [
        {
          "output_type": "stream",
          "name": "stdout",
          "text": [
            "Digite o ano : 2016\n",
            "O ano 2016 é Bissexto\n"
          ]
        }
      ],
      "source": [
        "ano = int(input('Digite o ano : '))\n",
        "\n",
        "if ano == 0:\n",
        "  ano = date.today().year\n",
        "  print(ano)\n",
        "\n",
        "if ano % 4 == 0 and ano % 100 != 0 or ano % 400 == 0:\n",
        "  print('O ano {} é Bissexto'.format(ano))\n",
        "else:\n",
        "  print('O ano {} Não é Bissexto'.format(ano))"
      ]
    }
  ]
}