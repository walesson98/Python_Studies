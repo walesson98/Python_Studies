{
  "nbformat": 4,
  "nbformat_minor": 0,
  "metadata": {
    "colab": {
      "name": "Exercício Python #042.ipynb",
      "provenance": [],
      "collapsed_sections": [],
      "authorship_tag": "ABX9TyP3jjf9JoT66UsAhgFyeyYU",
      "include_colab_link": true
    },
    "kernelspec": {
      "name": "python3",
      "display_name": "Python 3"
    },
    "language_info": {
      "name": "python"
    }
  },
  "cells": [
    {
      "cell_type": "markdown",
      "metadata": {
        "id": "view-in-github",
        "colab_type": "text"
      },
      "source": [
        "<a href=\"https://colab.research.google.com/github/walesson98/Python_Studies/blob/main/Basic/Exerc%C3%ADcio_Python_042.ipynb\" target=\"_parent\"><img src=\"https://colab.research.google.com/assets/colab-badge.svg\" alt=\"Open In Colab\"/></a>"
      ]
    },
    {
      "cell_type": "code",
      "execution_count": null,
      "metadata": {
        "id": "Cl4QVQoD69AA"
      },
      "outputs": [],
      "source": [
        "##Exercício Python #042 - Analisando Triângulos v2.0"
      ]
    },
    {
      "cell_type": "code",
      "source": [
        "a = float(input('Primeiro segmento: '))\n",
        "b = float(input('Segundo segmento: '))\n",
        "c = float(input('Terceiro segmento: '))\n",
        "\n",
        "if a < b + c and b < a + c and c < a + b:\n",
        "    print('Esses segmentos formam um triângulo!')\n",
        "    if a == b == c:\n",
        "        print('EQUILÁTERO!')\n",
        "    elif a != b != c != a:\n",
        "        print('ESCALENO!')\n",
        "    else:\n",
        "        print('ISÓCELES!')\n",
        "else:\n",
        "    print('Esses segmentos não formam um triângulo!')\n"
      ],
      "metadata": {
        "colab": {
          "base_uri": "https://localhost:8080/"
        },
        "id": "cqm2UDU16945",
        "outputId": "491a1a51-5da3-43e5-e65e-afb206a518de"
      },
      "execution_count": 14,
      "outputs": [
        {
          "output_type": "stream",
          "name": "stdout",
          "text": [
            "Primeiro segmento: 10\n",
            "Segundo segmento: 11\n",
            "Terceiro segmento: 12\n",
            "Esses segmentos formam um triângulo!\n",
            "ESCALENO!\n"
          ]
        }
      ]
    }
  ]
}