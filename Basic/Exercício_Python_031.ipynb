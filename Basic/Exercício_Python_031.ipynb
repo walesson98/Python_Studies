{
  "nbformat": 4,
  "nbformat_minor": 0,
  "metadata": {
    "colab": {
      "name": "Exercício Python #031.ipynb",
      "provenance": [],
      "authorship_tag": "ABX9TyMGnicumtI5nC7oXimG6jOD",
      "include_colab_link": true
    },
    "kernelspec": {
      "name": "python3",
      "display_name": "Python 3"
    },
    "language_info": {
      "name": "python"
    }
  },
  "cells": [
    {
      "cell_type": "markdown",
      "metadata": {
        "id": "view-in-github",
        "colab_type": "text"
      },
      "source": [
        "<a href=\"https://colab.research.google.com/github/walesson98/Python_Studies/blob/main/Basic/Exerc%C3%ADcio_Python_031.ipynb\" target=\"_parent\"><img src=\"https://colab.research.google.com/assets/colab-badge.svg\" alt=\"Open In Colab\"/></a>"
      ]
    },
    {
      "cell_type": "code",
      "execution_count": null,
      "metadata": {
        "id": "TrEVM2XkF-Jo"
      },
      "outputs": [],
      "source": [
        "##Exercício Python #031 - Custo da Viagem"
      ]
    },
    {
      "cell_type": "code",
      "source": [
        "distancia = float(input('Digite a distância da viagem: '))\n",
        "if distancia > 200:\n",
        "  custo = distancia * 0.45\n",
        "  print(\"O valor da viagem será R${:.2f}\".format(custo))\n",
        "else:\n",
        "  custo = distancia * 0.50\n",
        "  print(\"O valor da viagem será R${:.2f}\".format(custo))"
      ],
      "metadata": {
        "colab": {
          "base_uri": "https://localhost:8080/"
        },
        "id": "e6yC2k39GCSw",
        "outputId": "4861c7bd-3384-44de-dca8-c593e6f1aa33"
      },
      "execution_count": null,
      "outputs": [
        {
          "output_type": "stream",
          "name": "stdout",
          "text": [
            "Digite a distância da viagem: 600\n",
            "O valor da viagem será R$270.00\n"
          ]
        }
      ]
    }
  ]
}