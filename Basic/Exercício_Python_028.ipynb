{
  "nbformat": 4,
  "nbformat_minor": 0,
  "metadata": {
    "colab": {
      "name": "Exercício_Python_028.ipynb",
      "provenance": [],
      "authorship_tag": "ABX9TyMczucbzTbDifSU4TTF0jIW",
      "include_colab_link": true
    },
    "kernelspec": {
      "name": "python3",
      "display_name": "Python 3"
    },
    "language_info": {
      "name": "python"
    }
  },
  "cells": [
    {
      "cell_type": "markdown",
      "metadata": {
        "id": "view-in-github",
        "colab_type": "text"
      },
      "source": [
        "<a href=\"https://colab.research.google.com/github/walesson98/Python_Studies/blob/main/Basic/Exerc%C3%ADcio_Python_028.ipynb\" target=\"_parent\"><img src=\"https://colab.research.google.com/assets/colab-badge.svg\" alt=\"Open In Colab\"/></a>"
      ]
    },
    {
      "cell_type": "code",
      "source": [
        "## Exercício Python #028 - Jogo da Adivinhação"
      ],
      "metadata": {
        "id": "blzJkWmI7_xG"
      },
      "execution_count": null,
      "outputs": []
    },
    {
      "cell_type": "code",
      "source": [
        "import random"
      ],
      "metadata": {
        "id": "d1m5tmOK7AzA"
      },
      "execution_count": 1,
      "outputs": []
    },
    {
      "cell_type": "code",
      "execution_count": 5,
      "metadata": {
        "colab": {
          "base_uri": "https://localhost:8080/"
        },
        "id": "5_zgbGXl6yCA",
        "outputId": "8ea414de-d786-4cb1-f87f-c59d8e72196e"
      },
      "outputs": [
        {
          "output_type": "stream",
          "name": "stdout",
          "text": [
            "Digite um número de 0 até 5: 2\n",
            "2\n",
            "Você acertou!\n",
            "Resultado: 2\n"
          ]
        }
      ],
      "source": [
        "num = int(input('Digite um número de 0 até 5: '))\n",
        "valor = [0, 1, 2, 3, 4, 5]\n",
        "sorteio = random.choice(valor)\n",
        "print(sorteio)\n",
        "\n",
        "if sorteio == num:\n",
        "  print('Você acertou!')\n",
        "else:\n",
        "  print('Você errou!')\n",
        "print('Resultado: {}'.format(sorteio))"
      ]
    }
  ]
}