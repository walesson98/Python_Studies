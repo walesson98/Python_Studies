{
  "nbformat": 4,
  "nbformat_minor": 0,
  "metadata": {
    "colab": {
      "name": "Exercício Python #015.ipynb",
      "provenance": []
    },
    "kernelspec": {
      "name": "python3",
      "display_name": "Python 3"
    },
    "language_info": {
      "name": "python"
    }
  },
  "cells": [
    {
      "cell_type": "code",
      "execution_count": null,
      "metadata": {
        "id": "aFoxsj2Nx8xB"
      },
      "outputs": [],
      "source": [
        "## Exercício Python #015 - Aluguel de carros"
      ]
    },
    {
      "cell_type": "code",
      "source": [
        "dias = int(input('Quantos dias alugados? '))\n",
        "km = int(input('Quantos km rodados? '))\n",
        "valor = ((dias * 60) + (km * 0.15))\n",
        "print('O total a pagar é de R${:.2f}' .format(valor))"
      ],
      "metadata": {
        "colab": {
          "base_uri": "https://localhost:8080/"
        },
        "id": "_WXGC9HFyANq",
        "outputId": "963fe045-364a-49d1-b97e-b552850949ad"
      },
      "execution_count": 1,
      "outputs": [
        {
          "output_type": "stream",
          "name": "stdout",
          "text": [
            "Quantos dias alugados? 20\n",
            "Quantos km rodados? 1500\n",
            "O total a pagar é de R$1425.00\n"
          ]
        }
      ]
    }
  ]
}