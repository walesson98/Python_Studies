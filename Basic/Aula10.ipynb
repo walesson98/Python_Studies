{
  "nbformat": 4,
  "nbformat_minor": 0,
  "metadata": {
    "colab": {
      "name": "Aula10.ipynb",
      "provenance": [],
      "authorship_tag": "ABX9TyOJrjthJlj5FJYNocUJaVM7",
      "include_colab_link": true
    },
    "kernelspec": {
      "name": "python3",
      "display_name": "Python 3"
    },
    "language_info": {
      "name": "python"
    }
  },
  "cells": [
    {
      "cell_type": "markdown",
      "metadata": {
        "id": "view-in-github",
        "colab_type": "text"
      },
      "source": [
        "<a href=\"https://colab.research.google.com/github/walesson98/Python_Studies/blob/main/Basic/Aula10.ipynb\" target=\"_parent\"><img src=\"https://colab.research.google.com/assets/colab-badge.svg\" alt=\"Open In Colab\"/></a>"
      ]
    },
    {
      "cell_type": "code",
      "execution_count": 9,
      "metadata": {
        "colab": {
          "base_uri": "https://localhost:8080/"
        },
        "id": "T2UFakutzK9v",
        "outputId": "52f33836-d389-4921-8f95-7ec1875d2622"
      },
      "outputs": [
        {
          "output_type": "stream",
          "name": "stdout",
          "text": [
            "Digite seu nome completo: Walesson\n",
            "Que nome bonito você tem\n",
            "Bom dia, Walesson\n"
          ]
        }
      ],
      "source": [
        "nome = str(input('Digite seu nome completo: '))\n",
        "if nome == 'Walesson':\n",
        "  print('Que nome bonito você tem')\n",
        "else :\n",
        "  print('Seu nome é tão normal!')\n",
        "print('Bom dia, {}'.format(nome))"
      ]
    },
    {
      "cell_type": "code",
      "source": [
        "n1 = float(input('Digite sua primeira nota: '))\n",
        "n2 = float(input('Digite sua primeira nota: '))\n",
        "\n",
        "media = (n1 + n2)/2\n",
        "\n",
        "if media <= 6.0 :\n",
        "  print('Sua nota foi ruim! Sua nota é {}'.format(media))\n",
        "else:\n",
        "  print('Você um aluno excelente! Sua nota é {}'.format(media))"
      ],
      "metadata": {
        "colab": {
          "base_uri": "https://localhost:8080/"
        },
        "id": "XpXHa0J_1P6N",
        "outputId": "5b33de50-76ae-423d-cfa9-48d843383c38"
      },
      "execution_count": 13,
      "outputs": [
        {
          "output_type": "stream",
          "name": "stdout",
          "text": [
            "Digite sua primeira nota: 8.9\n",
            "Digite sua primeira nota: 7.5\n",
            "Você um aluno excelente! Sua nota é 8.2\n"
          ]
        }
      ]
    }
  ]
}