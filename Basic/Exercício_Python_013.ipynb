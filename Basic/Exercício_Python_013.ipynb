{
  "nbformat": 4,
  "nbformat_minor": 0,
  "metadata": {
    "colab": {
      "name": "Exercício Python #013.ipynb",
      "provenance": []
    },
    "kernelspec": {
      "name": "python3",
      "display_name": "Python 3"
    },
    "language_info": {
      "name": "python"
    }
  },
  "cells": [
    {
      "cell_type": "code",
      "execution_count": 1,
      "metadata": {
        "id": "ceTORLCMxkyS"
      },
      "outputs": [],
      "source": [
        "## Exercício Python #013 - Aumento Salarial"
      ]
    },
    {
      "cell_type": "code",
      "source": [
        "salario = float(input('Digite o salário: R$'))\n",
        "aumento = float(input('Digite o aumento: '))\n",
        "valorFinal = salario + (salario * aumento / 100)\n",
        "print('Seu salário antigo é de R${:.2f}, você teve um aumento de {:.0f}%, saiu por R${:.2f}' . format(salario, aumento, valorFinal))"
      ],
      "metadata": {
        "colab": {
          "base_uri": "https://localhost:8080/"
        },
        "id": "V6ACiJmFxnFF",
        "outputId": "1b2ea38b-6717-4afe-ecf9-c735f2b6e36f"
      },
      "execution_count": 2,
      "outputs": [
        {
          "output_type": "stream",
          "name": "stdout",
          "text": [
            "Digite o salário: R$2500\n",
            "Digite o aumento: 20\n",
            "Seu salário antigo é de R$2500.00, você teve um aumento de 20%, saiu por R$3000.00\n"
          ]
        }
      ]
    }
  ]
}