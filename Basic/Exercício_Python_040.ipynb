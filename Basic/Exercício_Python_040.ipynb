{
  "nbformat": 4,
  "nbformat_minor": 0,
  "metadata": {
    "colab": {
      "name": "Exercício Python #040.ipynb",
      "provenance": [],
      "collapsed_sections": [],
      "authorship_tag": "ABX9TyOdsIQhjTlTzQ7VOyXUq5MO",
      "include_colab_link": true
    },
    "kernelspec": {
      "name": "python3",
      "display_name": "Python 3"
    },
    "language_info": {
      "name": "python"
    }
  },
  "cells": [
    {
      "cell_type": "markdown",
      "metadata": {
        "id": "view-in-github",
        "colab_type": "text"
      },
      "source": [
        "<a href=\"https://colab.research.google.com/github/walesson98/Python_Studies/blob/main/Basic/Exerc%C3%ADcio_Python_040.ipynb\" target=\"_parent\"><img src=\"https://colab.research.google.com/assets/colab-badge.svg\" alt=\"Open In Colab\"/></a>"
      ]
    },
    {
      "cell_type": "code",
      "execution_count": null,
      "metadata": {
        "id": "pQQuBkpmXYS7"
      },
      "outputs": [],
      "source": [
        "##Exercício Python #040 - Aquele clássico da Média"
      ]
    },
    {
      "cell_type": "code",
      "source": [
        "nota01 = float(input('Digite sua primeira nota: '))\n",
        "nota02 = float(input('Digite sua segunda nota: '))\n",
        "\n",
        "media = (nota01 + nota02)/2\n",
        "\n",
        "if media < 5:\n",
        "    print('Média abaixo de 5.0: REPROVADO!')\n",
        "elif media > 5 and media < 6.9:\n",
        "    print('Média entre5.0 e 6.9: RECUPERAÇÃO!')\n",
        "elif media > 6.9:\n",
        "    print('Média 7.0 ou superior: APROVADO!')"
      ],
      "metadata": {
        "colab": {
          "base_uri": "https://localhost:8080/"
        },
        "id": "E6yGbzsaXZDq",
        "outputId": "f9dcfeeb-6ae3-40be-dd41-66cefe65f6eb"
      },
      "execution_count": 3,
      "outputs": [
        {
          "output_type": "stream",
          "name": "stdout",
          "text": [
            "Digite sua primeira nota: 4\n",
            "Digite sua segunda nota: 3\n",
            "Média abaixo de 5.0: REPROVADO!\n"
          ]
        }
      ]
    }
  ]
}