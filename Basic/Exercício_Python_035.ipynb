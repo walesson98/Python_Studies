{
  "nbformat": 4,
  "nbformat_minor": 0,
  "metadata": {
    "colab": {
      "name": "Exercício Python #035.ipynb",
      "provenance": [],
      "collapsed_sections": [],
      "authorship_tag": "ABX9TyOHzVMHIFyaSsKTC9mCxIdN",
      "include_colab_link": true
    },
    "kernelspec": {
      "name": "python3",
      "display_name": "Python 3"
    },
    "language_info": {
      "name": "python"
    }
  },
  "cells": [
    {
      "cell_type": "markdown",
      "metadata": {
        "id": "view-in-github",
        "colab_type": "text"
      },
      "source": [
        "<a href=\"https://colab.research.google.com/github/walesson98/Python_Studies/blob/main/Basic/Exerc%C3%ADcio_Python_035.ipynb\" target=\"_parent\"><img src=\"https://colab.research.google.com/assets/colab-badge.svg\" alt=\"Open In Colab\"/></a>"
      ]
    },
    {
      "cell_type": "code",
      "source": [
        "##Exercício Python #035 - Analisando Triângulo v1.0"
      ],
      "metadata": {
        "id": "0k3S-YpkXT9_"
      },
      "execution_count": null,
      "outputs": []
    },
    {
      "cell_type": "code",
      "execution_count": null,
      "metadata": {
        "colab": {
          "base_uri": "https://localhost:8080/"
        },
        "id": "L0qY3AlFVp31",
        "outputId": "01fcf971-c1b1-405c-fffd-59a3530c188c"
      },
      "outputs": [
        {
          "output_type": "stream",
          "name": "stdout",
          "text": [
            "-=-=-=-=-=-=-=-=-=-=-=-=-=-=-=-=-=-=-=-=\n",
            "Analisador de triângulos\n",
            "-=-=-=-=-=-=-=-=-=-=-=-=-=-=-=-=-=-=-=-=\n",
            "Digite o primeiro segmento: 15\n",
            "Digite o segundo segmento: 10\n",
            "Digite o teceito segmento: 20\n",
            "Os segmentos formam um triângulo\n"
          ]
        }
      ],
      "source": [
        "\n",
        "print('-='*20)\n",
        "print('Analisador de triângulos')\n",
        "print('-='*20)\n",
        "\n",
        "\n",
        "l1 = float(input('Digite o primeiro segmento: '))\n",
        "l2 = float(input('Digite o segundo segmento: '))\n",
        "l3 = float(input('Digite o teceito segmento: '))\n",
        "\n",
        "if l1 < l2 + l3 and l2 < l1 + l3 and l3 < l1 + l2:\n",
        "    print('Os segmentos formam um triângulo')\n",
        "else:\n",
        "    print('Os segmentos não formam um triângulo')"
      ]
    }
  ]
}