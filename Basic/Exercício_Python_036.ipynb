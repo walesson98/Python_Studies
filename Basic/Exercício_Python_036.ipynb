{
  "nbformat": 4,
  "nbformat_minor": 0,
  "metadata": {
    "colab": {
      "name": "Exercício Python #036.ipynb",
      "provenance": [],
      "collapsed_sections": [],
      "authorship_tag": "ABX9TyNOE/MJbQR6fLEUffuXJ1oM",
      "include_colab_link": true
    },
    "kernelspec": {
      "name": "python3",
      "display_name": "Python 3"
    },
    "language_info": {
      "name": "python"
    }
  },
  "cells": [
    {
      "cell_type": "markdown",
      "metadata": {
        "id": "view-in-github",
        "colab_type": "text"
      },
      "source": [
        "<a href=\"https://colab.research.google.com/github/walesson98/Python_Studies/blob/main/Basic/Exerc%C3%ADcio_Python_036.ipynb\" target=\"_parent\"><img src=\"https://colab.research.google.com/assets/colab-badge.svg\" alt=\"Open In Colab\"/></a>"
      ]
    },
    {
      "cell_type": "code",
      "execution_count": null,
      "metadata": {
        "id": "x3I7vsh4mWks"
      },
      "outputs": [],
      "source": [
        "##Exercício Python #036 - Aprovando Empréstimo"
      ]
    },
    {
      "cell_type": "code",
      "source": [
        "\n",
        "valorCasa = float(input(\"Qual valor da caasa? \"))\n",
        "salario = float(input(\"Qual o seu salário? \"))\n",
        "tempo = int(input(\"Você quer pagar em quanto tempo? \"))\n",
        "\n",
        "prestacaoIdeal = salario*30/100\n",
        "#print(prestacaoIdeal)\n",
        "\n",
        "valorPrestacao = valorCasa/ (tempo*12)\n",
        "print(\"Para pagar uma casa de R${:.2f} em {} anos \".format(valorCasa, tempo))\n",
        "print(\"a prestação será de R${:.2f}\".format(valorPrestacao))\n",
        "\n",
        "if valorPrestacao <= prestacaoIdeal:\n",
        "    print(\"Empréstimo condedido!\")\n",
        "else:\n",
        "    print(\"Empréstimo negado!\")"
      ],
      "metadata": {
        "colab": {
          "base_uri": "https://localhost:8080/"
        },
        "id": "eHFXrDJImXnT",
        "outputId": "b61aab92-0fcc-44b2-c78e-f0eb435fb7f1"
      },
      "execution_count": 18,
      "outputs": [
        {
          "output_type": "stream",
          "name": "stdout",
          "text": [
            "Qual valor da caasa? 80000\n",
            "Qual o seu salário? 4000\n",
            "Você quer pagar em quanto tempo? 7\n",
            "Para pagar uma casa de R$80000.00 em 7 anos \n",
            "a prestação será de R$952.38\n",
            "Empréstimo condedido!\n"
          ]
        }
      ]
    }
  ]
}