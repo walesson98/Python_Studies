{
  "nbformat": 4,
  "nbformat_minor": 0,
  "metadata": {
    "colab": {
      "name": "Exercício Python #016.ipynb",
      "provenance": []
    },
    "kernelspec": {
      "name": "python3",
      "display_name": "Python 3"
    },
    "language_info": {
      "name": "python"
    }
  },
  "cells": [
    {
      "cell_type": "code",
      "execution_count": null,
      "metadata": {
        "id": "tQ3y5WDnyLOn"
      },
      "outputs": [],
      "source": [
        "## Exercício Python #016 - Quebrando um número"
      ]
    },
    {
      "cell_type": "code",
      "source": [
        "from math import trunc"
      ],
      "metadata": {
        "id": "e16DYvMcyM2D"
      },
      "execution_count": 1,
      "outputs": []
    },
    {
      "cell_type": "code",
      "source": [
        "#num = float(input('Digite um valor: '))\n",
        "#print('O valor digitado é {} e sua porção inteira é {}'.format(num, trunc(num)))\n",
        "\n",
        "num = float(input('Digite um valor: '))\n",
        "print('O valor digitado é {} e sua porção inteira é {}'.format(num, int(num)))"
      ],
      "metadata": {
        "colab": {
          "base_uri": "https://localhost:8080/"
        },
        "id": "UgTV_jGDyPvD",
        "outputId": "9ce53925-042d-40b4-d59b-e1e341d8c33b"
      },
      "execution_count": 2,
      "outputs": [
        {
          "output_type": "stream",
          "name": "stdout",
          "text": [
            "Digite um valor: 1000\n",
            "O valor digitado é 1000.0 e sua porção inteira é 1000\n"
          ]
        }
      ]
    }
  ]
}