{
  "nbformat": 4,
  "nbformat_minor": 0,
  "metadata": {
    "colab": {
      "name": "Exercício Python #003.ipynb",
      "provenance": []
    },
    "kernelspec": {
      "name": "python3",
      "display_name": "Python 3"
    },
    "language_info": {
      "name": "python"
    }
  },
  "cells": [
    {
      "cell_type": "code",
      "source": [
        "## Exercício Python #003 - Somando dois números"
      ],
      "metadata": {
        "id": "VwkYmOu3s5rK"
      },
      "execution_count": 2,
      "outputs": []
    },
    {
      "cell_type": "code",
      "execution_count": 1,
      "metadata": {
        "colab": {
          "base_uri": "https://localhost:8080/"
        },
        "id": "UATGrYCqskYC",
        "outputId": "bd92db57-2e5d-4c2c-ff40-e946e5f3e272"
      },
      "outputs": [
        {
          "output_type": "stream",
          "name": "stdout",
          "text": [
            "Digite um número: 50\n",
            "Digite outro núemro:20\n",
            "A soma entre 50 e 20 é igual a: 70!\n"
          ]
        }
      ],
      "source": [
        "a = int(input('Digite um número: '))\n",
        "b = int(input('Digite outro núemro:'))\n",
        "\n",
        "soma = a+b\n",
        "print('A soma entre {} e {} é igual a: {}!'.format(a,b,soma))"
      ]
    }
  ]
}