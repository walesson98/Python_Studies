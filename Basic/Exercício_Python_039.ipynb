{
  "nbformat": 4,
  "nbformat_minor": 0,
  "metadata": {
    "colab": {
      "name": "Exercício Python #039.ipynb",
      "provenance": [],
      "collapsed_sections": [],
      "authorship_tag": "ABX9TyNpPhxPfGtVJX282pUuXllZ",
      "include_colab_link": true
    },
    "kernelspec": {
      "name": "python3",
      "display_name": "Python 3"
    },
    "language_info": {
      "name": "python"
    }
  },
  "cells": [
    {
      "cell_type": "markdown",
      "metadata": {
        "id": "view-in-github",
        "colab_type": "text"
      },
      "source": [
        "<a href=\"https://colab.research.google.com/github/walesson98/Python_Studies/blob/main/Basic/Exerc%C3%ADcio_Python_039.ipynb\" target=\"_parent\"><img src=\"https://colab.research.google.com/assets/colab-badge.svg\" alt=\"Open In Colab\"/></a>"
      ]
    },
    {
      "cell_type": "code",
      "execution_count": null,
      "metadata": {
        "id": "BGjgBIx-NaqR"
      },
      "outputs": [],
      "source": [
        "##Exercício Python #039 - Alistamento Militar"
      ]
    },
    {
      "cell_type": "code",
      "source": [
        "from datetime import date"
      ],
      "metadata": {
        "id": "6lwk3I5OSwdN"
      },
      "execution_count": 1,
      "outputs": []
    },
    {
      "cell_type": "code",
      "source": [
        "nasc = int(input('Digite o ano em que você nasceu: '))\n",
        "\n",
        "atual = date.today().year\n",
        "idade = atual - nasc\n",
        "\n",
        "print('Você nasceu em {} tem {} anos em {}'.format(nasc, idade, atual))\n",
        "if idade == 18:\n",
        "    print('Você está no tempo de se alistar!')\n",
        "elif idade < 18:\n",
        "    saldo = 18 - idade\n",
        "    print('Você ainda não está na idade correta para se alistar, falta {} ano!)'.format(saldo))\n",
        "elif idade > 18:\n",
        "    saldo = idade - 18\n",
        "    print('Você já deveria ter se alistado há {} anos!'.format(saldo))\n"
      ],
      "metadata": {
        "colab": {
          "base_uri": "https://localhost:8080/"
        },
        "id": "5qsSkNiyNgP4",
        "outputId": "073aab2b-7233-4ff9-ca9f-ab4132ade496"
      },
      "execution_count": 8,
      "outputs": [
        {
          "output_type": "stream",
          "name": "stdout",
          "text": [
            "Digite o ano em que você nasceu: 2000\n",
            "Você nasceu em 2000 tem 22 anos em 2022\n",
            "Você já deveria ter se alistado há 4 anos!\n"
          ]
        }
      ]
    }
  ]
}