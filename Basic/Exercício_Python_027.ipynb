{
  "nbformat": 4,
  "nbformat_minor": 0,
  "metadata": {
    "colab": {
      "name": " Exercício Python #027.ipynb",
      "provenance": [],
      "authorship_tag": "ABX9TyM45adAZ+QOC6gM8sEoxHnh",
      "include_colab_link": true
    },
    "kernelspec": {
      "name": "python3",
      "display_name": "Python 3"
    },
    "language_info": {
      "name": "python"
    }
  },
  "cells": [
    {
      "cell_type": "markdown",
      "metadata": {
        "id": "view-in-github",
        "colab_type": "text"
      },
      "source": [
        "<a href=\"https://colab.research.google.com/github/walesson98/Python_Studies/blob/main/Basic/Exerc%C3%ADcio_Python_027.ipynb\" target=\"_parent\"><img src=\"https://colab.research.google.com/assets/colab-badge.svg\" alt=\"Open In Colab\"/></a>"
      ]
    },
    {
      "cell_type": "code",
      "execution_count": null,
      "metadata": {
        "id": "27nGU3VV-7UI"
      },
      "outputs": [],
      "source": [
        "## Exercício Python #027 - Primeiro e último nome de uma pessoa"
      ]
    },
    {
      "cell_type": "code",
      "source": [
        "nome = str(input('Digite seu nome completo: ')).strip().split()\n",
        "#print(nome)\n",
        "print('Seu primeiro nome é: {}'.format(nome[0]))\n",
        "print('Seu último nome é: {}'.format(nome[len(nome) - 1]))"
      ],
      "metadata": {
        "colab": {
          "base_uri": "https://localhost:8080/"
        },
        "id": "Do5IYiuD_B5o",
        "outputId": "81c70513-d0e6-49f9-fb37-ad831c6f300a"
      },
      "execution_count": 6,
      "outputs": [
        {
          "output_type": "stream",
          "name": "stdout",
          "text": [
            "Digite seu nome completo: Walesson Alves\n",
            "Seu primeiro nome é: Walesson\n",
            "Seu último nome é: Alves\n"
          ]
        }
      ]
    }
  ]
}