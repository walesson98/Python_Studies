{
  "nbformat": 4,
  "nbformat_minor": 0,
  "metadata": {
    "colab": {
      "name": "Exercício Python #008.ipynb",
      "provenance": []
    },
    "kernelspec": {
      "name": "python3",
      "display_name": "Python 3"
    },
    "language_info": {
      "name": "python"
    }
  },
  "cells": [
    {
      "cell_type": "code",
      "execution_count": null,
      "metadata": {
        "id": "_Oqy0p7Rt7iP"
      },
      "outputs": [],
      "source": [
        "## Exercício Python #008 - Conversor de Medidas"
      ]
    },
    {
      "cell_type": "code",
      "source": [
        "medida = float(input('Digite uma disntacia em metros: '))\n",
        "cm = medida * 100\n",
        "mm = medida * 1000\n",
        "print('A medida de {}m corresponde a {}cm e {}mm' .format(medida, cm, mm))"
      ],
      "metadata": {
        "id": "L2cbTZuYuCiK"
      },
      "execution_count": null,
      "outputs": []
    }
  ]
}