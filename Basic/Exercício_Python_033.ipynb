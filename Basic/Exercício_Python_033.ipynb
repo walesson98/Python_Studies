{
  "nbformat": 4,
  "nbformat_minor": 0,
  "metadata": {
    "colab": {
      "name": "Exercício Python #033.ipynb",
      "provenance": [],
      "collapsed_sections": [],
      "authorship_tag": "ABX9TyNkRyRBm9G5vXsGa5W9boxA",
      "include_colab_link": true
    },
    "kernelspec": {
      "name": "python3",
      "display_name": "Python 3"
    },
    "language_info": {
      "name": "python"
    }
  },
  "cells": [
    {
      "cell_type": "markdown",
      "metadata": {
        "id": "view-in-github",
        "colab_type": "text"
      },
      "source": [
        "<a href=\"https://colab.research.google.com/github/walesson98/Python_Studies/blob/main/Basic/Exerc%C3%ADcio_Python_033.ipynb\" target=\"_parent\"><img src=\"https://colab.research.google.com/assets/colab-badge.svg\" alt=\"Open In Colab\"/></a>"
      ]
    },
    {
      "cell_type": "code",
      "execution_count": null,
      "metadata": {
        "id": "b8sJ1FP5tind"
      },
      "outputs": [],
      "source": [
        "##Exercício Python #033 - Maior e menor valores"
      ]
    },
    {
      "cell_type": "code",
      "source": [
        "n1 = int(input('Primeiro número:'))\n",
        "n2 = int(input('Segundo número:'))\n",
        "n3 = int(input('Terceiro número:'))\n",
        "menor = n3\n",
        "if n1 < n2 and n1 < n3:\n",
        "  menor = n1\n",
        "if n2 < n1 and n2 < n3:\n",
        "  menor = n2\n",
        "\n",
        "maior = n3\n",
        "if n1 > n2 and n1 > n3:\n",
        "  maior = n1\n",
        "if n2 > n1 and n2 > n3:\n",
        "  maior = n2\n",
        "print(menor)\n",
        "print(maior)\n",
        "  "
      ],
      "metadata": {
        "colab": {
          "base_uri": "https://localhost:8080/"
        },
        "id": "3ZOw96lvtouV",
        "outputId": "02dddd30-25c0-4c6c-b924-fcec442c5a18"
      },
      "execution_count": null,
      "outputs": [
        {
          "output_type": "stream",
          "name": "stdout",
          "text": [
            "Primeiro número:50\n",
            "Segundo número:20\n",
            "Terceiro número:10\n",
            "10\n",
            "50\n"
          ]
        }
      ]
    }
  ]
}