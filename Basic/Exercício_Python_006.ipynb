{
  "nbformat": 4,
  "nbformat_minor": 0,
  "metadata": {
    "colab": {
      "name": "Exercício Python #006.ipynb",
      "provenance": []
    },
    "kernelspec": {
      "name": "python3",
      "display_name": "Python 3"
    },
    "language_info": {
      "name": "python"
    }
  },
  "cells": [
    {
      "cell_type": "code",
      "execution_count": 1,
      "metadata": {
        "id": "60e-aZ-ftbZo"
      },
      "outputs": [],
      "source": [
        "## Exercício Python #006 - Dobro, Triplo, Raiz Quadrada"
      ]
    },
    {
      "cell_type": "code",
      "source": [
        "n = int(input('Digite um número: '))\n",
        "d = n * 2\n",
        "t = n * 3\n",
        "r = n**(1/2)\n",
        "print('O dobro de {} vale {}.'.format(n, d))\n",
        "print('O triplo de {} vale {}.'.format(n, t))\n",
        "print('A raiz quadrada de {} é {:.2f}.' .format(n, r))"
      ],
      "metadata": {
        "colab": {
          "base_uri": "https://localhost:8080/"
        },
        "id": "fVsJJWqdte3-",
        "outputId": "3da6370a-c568-4164-b2e4-777ce8bafa17"
      },
      "execution_count": 2,
      "outputs": [
        {
          "output_type": "stream",
          "name": "stdout",
          "text": [
            "Digite um número: 20\n",
            "O dobro de 20 vale 40.\n",
            "O triplo de 20 vale 60.\n",
            "A raiz quadrada de 20 é 4.47.\n"
          ]
        }
      ]
    }
  ]
}