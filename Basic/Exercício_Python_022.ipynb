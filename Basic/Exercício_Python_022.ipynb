{
  "nbformat": 4,
  "nbformat_minor": 0,
  "metadata": {
    "colab": {
      "name": "Exercício Python #022.ipynb",
      "provenance": [],
      "authorship_tag": "ABX9TyMYDpIhTAwWJrKFUJ3TmAiq",
      "include_colab_link": true
    },
    "kernelspec": {
      "name": "python3",
      "display_name": "Python 3"
    },
    "language_info": {
      "name": "python"
    }
  },
  "cells": [
    {
      "cell_type": "markdown",
      "metadata": {
        "id": "view-in-github",
        "colab_type": "text"
      },
      "source": [
        "<a href=\"https://colab.research.google.com/github/walesson98/Python_Studies/blob/main/Basic/Exerc%C3%ADcio_Python_022.ipynb\" target=\"_parent\"><img src=\"https://colab.research.google.com/assets/colab-badge.svg\" alt=\"Open In Colab\"/></a>"
      ]
    },
    {
      "cell_type": "code",
      "execution_count": null,
      "metadata": {
        "id": "Ipar2VhZKBtK"
      },
      "outputs": [],
      "source": [
        "## Exercício Python #022 - Analisador de Textos"
      ]
    },
    {
      "cell_type": "code",
      "source": [
        "nome = str(input('Digite seu nome comleto:')).strip()\n",
        "print('Analisando seu nome...')\n",
        "print('Seu nome em maíscula é {}'.format(nome.upper()))\n",
        "print('Seu nome em minúsculas é {}'.format(nome.lower()))\n",
        "print('Seu nome tem ao todo {} letras'.format(len(nome) - nome.count(' ')))\n",
        "print('Seu primeiro nome tem {} letras'.format(nome.find(' ')))\n",
        "separa = nome.split()\n",
        "print(separa)\n",
        "print('Seu primeiro nome é {} e ele tem {} letras'.format(separa[0], len (separa[0])))"
      ],
      "metadata": {
        "colab": {
          "base_uri": "https://localhost:8080/"
        },
        "id": "8pcyp5fMKJfP",
        "outputId": "935ef6c2-0652-4bb7-9a83-f93fd8afbaf8"
      },
      "execution_count": 12,
      "outputs": [
        {
          "output_type": "stream",
          "name": "stdout",
          "text": [
            "Digite seu nome comleto:Walesson Alves\n",
            "Analisando seu nome...\n",
            "Seu nome em maíscula é WALESSON ALVES\n",
            "Seu nome em minúsculas é walesson alves\n",
            "Seu nome tem ao todo 13 letras\n",
            "Seu primeiro nome tem 8 letras\n",
            "['Walesson', 'Alves']\n",
            "Seu primeiro nome é Walesson e ele tem 8 letras\n"
          ]
        }
      ]
    }
  ]
}